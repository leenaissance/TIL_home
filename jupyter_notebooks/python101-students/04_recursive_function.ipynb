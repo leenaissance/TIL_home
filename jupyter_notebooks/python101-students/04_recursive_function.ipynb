{
 "cells": [
  {
   "cell_type": "code",
   "execution_count": null,
   "metadata": {},
   "outputs": [],
   "source": [
    "# 애니메이션을 위해 꼭 실행시켜주세요.\n",
    "from IPython.display import IFrame    "
   ]
  },
  {
   "cell_type": "markdown",
   "metadata": {},
   "source": [
    "# 재귀 함수(recursive function)\n",
    "\n",
    "재귀 함수는 함수 내부에서 자기 자신을 호출 하는 함수를 뜻한다."
   ]
  },
  {
   "cell_type": "markdown",
   "metadata": {},
   "source": [
    "## 실습 문제 - 팩토리얼 계산\n",
    "\n",
    "> `팩토리얼(factorial)`을 계산하는 함수 `fact(n)`를 작성해봅시다. \n",
    ">\n",
    "> n은 1보다 큰 정수라고 가정하고, 팩토리얼을 계산한 값을 반환합니다.\n",
    "\n",
    "$$\n",
    "\\displaystyle n! = \\prod_{ k = 1 }^{ n }{ k }\n",
    "$$\n",
    "\n",
    "$$\n",
    "\\displaystyle n! = 1*2*3*...*(n-1)*n\n",
    "$$\n",
    "\n",
    "---\n",
    "```\n",
    "예시 출력)\n",
    "120\n",
    "```"
   ]
  },
  {
   "cell_type": "code",
   "execution_count": null,
   "metadata": {},
   "outputs": [],
   "source": [
    "# 아래에 코드를 작성해주세요.\n",
    "def factorial(number):\n",
    "    result = 1\n",
    "    for i in range(1, number+1):\n",
    "        result = result * i\n",
    "    return result\n",
    "\n",
    "factorial(7)"
   ]
  },
  {
   "cell_type": "code",
   "execution_count": null,
   "metadata": {},
   "outputs": [],
   "source": [
    "# 아래의 코드를 통해 fact(5) 함수를 호출해주세요.\n",
    "fact(5)"
   ]
  },
  {
   "cell_type": "code",
   "execution_count": null,
   "metadata": {},
   "outputs": [],
   "source": [
    "def fact(n):\n",
    "    result = 1\n",
    "    while n > 1:\n",
    "        result = result * n\n",
    "        n -= 1\n",
    "    return result"
   ]
  },
  {
   "cell_type": "markdown",
   "metadata": {},
   "source": [
    "## 예제 문제 - 재귀를 이용한 팩토리얼 계산\n",
    "\n",
    "```\n",
    "1! == 1\n",
    "2! == 1 * 2 = 1! * 2 \n",
    "3! == 1 * 2 * 3 = 2! * 3\n",
    "4! == 1 * 2 * 3 * 4 = 3! * 4\n",
    "5! == 1 * 2 * 3 * 4 * 5 = 4! * 5\n",
    "```"
   ]
  },
  {
   "cell_type": "code",
   "execution_count": null,
   "metadata": {},
   "outputs": [],
   "source": [
    "# 아래에 재귀함수를 이용한 팩토리얼 계산을 해봅시다.\n",
    "\n",
    "def factorial(n):\n",
    "    return n * factorial(n - 1)"
   ]
  },
  {
   "cell_type": "code",
   "execution_count": null,
   "metadata": {},
   "outputs": [],
   "source": [
    "# 아래의 코드를 통해 factorial(5) 함수를 호출해주세요.\n",
    "factorial(0)"
   ]
  },
  {
   "cell_type": "code",
   "execution_count": null,
   "metadata": {},
   "outputs": [],
   "source": [
    "# 실행 오류 뜨면 제일 상단에 import를 반드시 해주세요.\n",
    "IFrame(\"https://goo.gl/8Cmw2X\", width='100%', height='500px')"
   ]
  },
  {
   "cell_type": "markdown",
   "metadata": {},
   "source": [
    "* 재귀 함수는 기본적으로 같은 문제이지만 점점 범위가 줄어드는 문제를 풀게 된다.\n",
    "\n",
    "* 재귀함수를 작성시에는 반드시, `base case`가 존재 하여야 한다. -> `base case` == `끝나는 지점`\n",
    "\n",
    "* `base case`는 점점 범위가 줄어들어 반복되지 않는 최종적으로 도달하는 곳이다. \n",
    "\n",
    "재귀를 이용한 팩토리얼 계산에서의 base case는 n이 1일때, 함수가 아닌 정수 반환하는 것이다."
   ]
  },
  {
   "cell_type": "code",
   "execution_count": null,
   "metadata": {},
   "outputs": [],
   "source": [
    "'''\n",
    "함수는 return 을 만나면 끝남\n",
    "return 문에서 함수를 또 만나면 함수를 다시 호출(return 문 실행 x)\n",
    "함수가 끝났을 때 값 return\n",
    "'''"
   ]
  },
  {
   "cell_type": "markdown",
   "metadata": {},
   "source": [
    "* 자기 자신을 호출하는 재귀함수는 알고리즘 구현시 많이 사용된다.\n",
    "* 코드가 더 직관적이고 이해하기 쉬운 경우가 있음. (하지만, 만들기는 어려움)\n",
    "* [Python Tutor](https://goo.gl/k1hQYz)에 보면, 함수가 호출될 때마다 메모리 공간에 쌓이는 것을 볼 수 있다. \n",
    "* 이 경우, 메모리 스택이 넘치거나(Stack overflow) 프로그램 실행 속도가 늘어지는 단점이 생긴다.\n",
    "* 파이썬에서는 이를 방지하기 위해 1,000번이 넘어가게 되면 더이상 함수를 호출하지 않고, 종료된다."
   ]
  },
  {
   "cell_type": "code",
   "execution_count": null,
   "metadata": {},
   "outputs": [],
   "source": [
    "# 여기에서 오류를 확인해보자!"
   ]
  },
  {
   "cell_type": "markdown",
   "metadata": {},
   "source": [
    "## 실습문제 - 피보나치 수열\n",
    "\n",
    "> 피보나치 수열은 다음과 같은 점화식이 있다. \n",
    ">\n",
    "> 피보나치 값을 리턴하는 두가지 방식의 코드를 모두 작성해보자.\n",
    "\n",
    "$$\n",
    "\\displaystyle F_0 = F_1 = 1\n",
    "$$\n",
    "\n",
    "$$\n",
    "F_n=F_{n-1}+F_{n-2}\\qquad(n\\in\\{2,3,4,\\dots\\})\n",
    "$$\n",
    "\n",
    "1) `fib(n)` : 재귀함수\n",
    "\n",
    "2) `fib_loop(n)` : 반복문 활용한 함수\n",
    "\n",
    "---\n",
    "```\n",
    "예시 입력)\n",
    "fib(10)\n",
    "\n",
    "예시 호출)\n",
    "89\n",
    "```"
   ]
  },
  {
   "cell_type": "code",
   "execution_count": null,
   "metadata": {},
   "outputs": [],
   "source": [
    "# 아래에 재귀를 이용한 코드를 작성해주세요.\n",
    "[1, 1, 2, 3, 5, 8, 13, 21, 34, 55, 89, ...]\n",
    "\n",
    "def fib(n):\n",
    "    if n in (0, 1):\n",
    "        return 1\n",
    "    else:\n",
    "        return fib(n-1) + fib(n-2)\n",
    "    \n",
    "fib(10)"
   ]
  },
  {
   "cell_type": "code",
   "execution_count": null,
   "metadata": {},
   "outputs": [],
   "source": [
    "# 아래의 코드를 통해 fib 함수를 호출해주세요.\n",
    "fib(10)"
   ]
  },
  {
   "cell_type": "code",
   "execution_count": null,
   "metadata": {
    "scrolled": true
   },
   "outputs": [],
   "source": [
    "# 아래에 반복문을 이용한 코드를 작성해주세요.\n",
    "\n",
    "\n",
    "def fib_loop(n):\n",
    "    fib_list = [1, 1]\n",
    "    for i in range(???):\n",
    "        fib_list.append(fib_list[n-2] + fib_list[n-1])\n",
    "    return fib_list\n",
    "    \n",
    "fib_loop(3)\n",
    "\n",
    "# n0 1\n",
    "# n1 1\n",
    "# n2 2 (n0 + n1)\n",
    "# n3 3 (n1 + n2)\n",
    "# n4 5 (n2 + n3)\n",
    "# n5 8 (n3 + n4)\n",
    "# n6 13 (n4 + n5)\n"
   ]
  },
  {
   "cell_type": "code",
   "execution_count": null,
   "metadata": {},
   "outputs": [],
   "source": [
    "def fib_loop(n):\n",
    "    result = [1, 1]\n",
    "    for i in range(1, n):\n",
    "        result.append(result[-1] + result[-2])\n",
    "    return result\n",
    "        \n",
    "        \n",
    "fib_loop(3)"
   ]
  },
  {
   "cell_type": "code",
   "execution_count": null,
   "metadata": {},
   "outputs": [],
   "source": [
    "# 아래의 코드를 통해 fib_loop(5) 함수를 호출해주세요.\n",
    "\n",
    "def fib_loop(n):\n",
    "    result = [1, 1]\n",
    "    for i in range(1, n):\n",
    "        result.append(result[-1] + result[-2])\n",
    "    return result\n",
    "\n",
    "fib_loop(10)"
   ]
  },
  {
   "cell_type": "markdown",
   "metadata": {},
   "source": [
    "## 반복문과 재귀 함수의 차이"
   ]
  },
  {
   "cell_type": "code",
   "execution_count": null,
   "metadata": {},
   "outputs": [],
   "source": [
    "# 큰 숫자를 재귀로 짜여진 fib()함수의 인자로 넘겨보세요.\n",
    "\n",
    "\n",
    "def fib(n):\n",
    "    if n in (0, 1):\n",
    "        return 1\n",
    "    else:\n",
    "        return fib(n-1) + fib(n-2)\n",
    "    \n",
    "fib(33)"
   ]
  },
  {
   "cell_type": "code",
   "execution_count": null,
   "metadata": {
    "scrolled": false
   },
   "outputs": [],
   "source": [
    "# 100배 되는 숫자를 반복문으로 짜여진 fib_loop()인자로 넘겨보세요.\n",
    "\n",
    "def fib(n):\n",
    "    if n in (0, 1):\n",
    "        return 1\n",
    "    else:\n",
    "        return fib(n-1) + fib(n-2)\n",
    "\n",
    "fib(3300)"
   ]
  },
  {
   "cell_type": "code",
   "execution_count": null,
   "metadata": {},
   "outputs": [],
   "source": [
    "# 실행 오류 뜨면 제일 상단에 import를 반드시 해주세요.\n",
    "IFrame('https://goo.gl/JZ7s15', width='100%', height='300px')"
   ]
  },
  {
   "cell_type": "markdown",
   "metadata": {},
   "source": [
    "### 실습문제 - chicken coupon\n",
    ">ex) 치킨 쿠폰 3장을 모으면 한 마리를 줍니다.한 마리를 시키면 쿠폰 1 장을 줍니다.\n",
    ">쿠폰 n장이 있을 때, 몇 마리까지 먹을 수 있을까요?\n",
    "\n",
    ">ex)10장 => 7장 + 1장 => 5장 + 1장 => 3장 + 1장 => 1 + 1"
   ]
  },
  {
   "cell_type": "code",
   "execution_count": null,
   "metadata": {},
   "outputs": [],
   "source": [
    "# coupons = 10\n",
    "# free = 3\n",
    "\n",
    "\n",
    "def chicken(coupons, free):\n",
    "    if coupons < 3:\n",
    "        return 0\n",
    "    else:\n",
    "        if coupons // free > 0:\n",
    "            coupons -= 2\n",
    "            free_chick = 0\n",
    "            free_chick += 1\n",
    "        return free_chick + chicken(coupons, free)\n",
    "    \n",
    "print(chicken(100, 3))\n"
   ]
  },
  {
   "cell_type": "code",
   "execution_count": null,
   "metadata": {},
   "outputs": [],
   "source": [
    "쿠픈 10장 치킨 0 (-쿠폰 3장 + 쿠폰 1장  +치킨 1) (-쿠폰 3장 + 쿠폰 1장  +치킨 1) (-쿠폰 3장 + 쿠폰 1장  +치킨 1)\n",
    "쿠폰이 3장 미만일때 멈춤\n",
    "\n",
    "\n",
    "쿠폰을 3으로 나눴을 때 몫이 1보다 크면:\n",
    "    쿠폰을 3장 뺴고, 쿠폰을 1장 더하고, 프리치킨을 한 장 더한다\n",
    "    "
   ]
  },
  {
   "cell_type": "code",
   "execution_count": null,
   "metadata": {},
   "outputs": [],
   "source": [
    "# 선생님 풀이\n",
    "def free_chicken(coupon, N, chicken=0):\n",
    " \n",
    "    if coupon < N:\n",
    "        return chicken\n",
    "    else:\n",
    "        coupon -= 3\n",
    "        chicken += 1\n",
    "        coupon += 1\n",
    "        return free_chicken(coupon, N, chicken)\n",
    "        \n",
    "free_chicken(10, 3)\n"
   ]
  },
  {
   "cell_type": "markdown",
   "metadata": {},
   "source": [
    "### 실습 문제 - 개미 수열(Look & Say)\n",
    "> 붙어있는 숫자를 세어서 몇 개인지 말해요\n",
    "\n",
    "```python\n",
    "n = 0\n",
    "[1]\n",
    "\n",
    "n = 1\n",
    "[1, 1]\n",
    "\n",
    "n = 2\n",
    "[1, 2]\n",
    "\n",
    "n = 3\n",
    "[1, 1, 2, 1]\n",
    "\n",
    "n = 4\n",
    "[1, 2, 2, 1, 1, 1]\n",
    "\n",
    "n = 5\n",
    "[1, 1, 2, 2, 1, 3]\n",
    "\n",
    "n = 6\n",
    "[1, 2, 2, 2, 1, 1, 3, 1]\n",
    "\n",
    "n = 7\n",
    "[1, 1, 2, 3, 1, 2, 3, 1, 1, 1]\n",
    "```"
   ]
  },
  {
   "cell_type": "code",
   "execution_count": null,
   "metadata": {
    "scrolled": false
   },
   "outputs": [],
   "source": [
    "def lookandsay(n):\n",
    "    if n <= 0:\n",
    "        result_list = [1]\n",
    "    else:\n",
    "        result_list = [1]\n",
    "        numb_count = 0\n",
    "        for m in range(0, len(result_list), 2):\n",
    "            if result_list[m] == result_list[m + 1]:\n",
    "                result_list = result_list.append(numb_count + 1)\n",
    "        \n",
    "    return lookandsay(n)\n",
    "#         if len(result_list) <= 2:\n",
    "#             result_list[0], x개\n",
    "# #         else:\n",
    "# #             result_list[2], y개\n",
    "# #             result_list[2 + 2], \n",
    "#         # n > 0\n",
    "#         # result_list[0] 이 x 개\n",
    "#         # result_list[2] 이 y개\n",
    "#         # \n",
    "# # lookandsay(4) = [1, 2, 2, 1, 1, 1]\n",
    "    \n",
    "lookandsay(1)"
   ]
  },
  {
   "cell_type": "code",
   "execution_count": 1,
   "metadata": {},
   "outputs": [
    {
     "data": {
      "text/plain": [
       "[1, 2, 2, 2, 1, 2, 3, 1, 1, 2, 3, 1, 2, 1, 1, 3, 3, 1, 1, 2, 2, 1, 3, 1, 1, 1]"
      ]
     },
     "execution_count": 1,
     "metadata": {},
     "output_type": "execute_result"
    }
   ],
   "source": [
    "# 선생님 풀이\n",
    "\n",
    "def look_and_say(n, remain=[1], result=[]):\n",
    "    if n == 0:\n",
    "        return remain\n",
    "    look = remain[0]\n",
    "    say = 0\n",
    "    for index, number in enumerate(remain):\n",
    "        if number == look: # 보던 애가 계속 나오면\n",
    "            say += 1\n",
    "            # return end + [look, say]\n",
    "        else: # 못보던 애가 나오면 \n",
    "            del(remain[0:index])\n",
    "            break # 자른다    \n",
    "    else: # break 가 걸리면 else문으로 나온다\n",
    "        remain = []\n",
    "    result = result + [look, say]\n",
    "    \n",
    "    if not remain:  # == remain이 비어있으면\n",
    "        return look_and_say(n-1, result, [])\n",
    "    else:\n",
    "        return look_and_say(n, remain, result)\n",
    "# end 뒤에 look 과 say를 붙인다\n",
    "# start가 비어있다면, return look_and_say(n-1, , )\n",
    "# start가 남아있다면, return look_and_say(n, , )\n",
    "look_and_say(10)"
   ]
  },
  {
   "cell_type": "markdown",
   "metadata": {},
   "source": [
    ">유닛단위에서 가장 작은 패턴을 함수로 만들 수 있다면, 숫자가 아무리 커져도 적용할 수 있다! -> 재귀함수를 쓰는 이유"
   ]
  },
  {
   "cell_type": "markdown",
   "metadata": {},
   "source": [
    "## 실습문제 - 하노이의 탑\n",
    "\n",
    "> 다음은 하노이의 탑이다. \n",
    ">\n",
    "> 하노이의 탑을 풀이하는 해법(한쪽 탑의 원판을 다른 탑으로 모두 옮기는 법을 출력하는 함수를 만드세요.\n",
    "\n",
    "<br>\n",
    "<br>\n",
    "<center>\n",
    "    <img src=\"./images/04/hanoi.gif\", alt=\"\">\n",
    "</center>\n",
    "\n",
    "1. 한 번에 한개의 층만을 다른 기둥으로 옮길 수 있다\n",
    "2. 옮기려는 기둥에는 아무것도 없거나 옮기려는 층보다 큰 층이 있을 경우에만 옮길 수 있다\n",
    "3. 옮기려는 기둥에 옮기려는 층보다 작은 층이 이미 있을 경우 그 기둥으로 옮길 수 없다.\n",
    "4. 가능한 적은 회수로 전체 탑을 다른 기둥으로 옮긴다."
   ]
  },
  {
   "cell_type": "markdown",
   "metadata": {},
   "source": [
    "##### 아래에 코드를 작성해주세요.\n",
    "\n",
    "\n",
    ">세 개의 축, n개의 원반이 주어짐 <br>\n",
    "축을 A, B, C <br>\n",
    "원반은 크기 순서대로 1 ~ n <br>\n"
   ]
  },
  {
   "cell_type": "code",
   "execution_count": null,
   "metadata": {},
   "outputs": [],
   "source": [
    "\"\"\"\n",
    "1. A, B, C중 하나의 리스트에 1부터 n까지가 정렬되어 들어있다.\n",
    "2. A, B, C 중 숫자가 들어있지 않은 리스트에 숫자를 1부터 n까지 하나씩 꺼내서 정렬되게 집어넣는다.\n",
    "3. 옮기려는 list에 아무것도 없거나 옮기려는 숫자보다 큰 숫자가 있는 경우에만 옮길 수 있다.\n",
    "4. 옮기려는 리스트에 옮기려는 숫자보다 작은 숫자가 있을 경우 그 기둥으로 옮길 수 없다.\n",
    "5. 가능한 이동횟수를 적게 만든다.\n",
    "\"\"\"   "
   ]
  },
  {
   "cell_type": "code",
   "execution_count": null,
   "metadata": {},
   "outputs": [],
   "source": [
    "# 입력값: 원반의 개수 n\n",
    "# 기존 설정값: ?\n",
    "\n",
    "def my_hanoi(n):\n",
    "    A, B, C = list(range(1, n+1)), [], []\n",
    "    \n",
    "    "
   ]
  },
  {
   "cell_type": "code",
   "execution_count": 4,
   "metadata": {},
   "outputs": [
    {
     "name": "stdout",
     "output_type": "stream",
     "text": [
      "[1, 2, 3, 4, 5, 6, 7, 8, 9, 10]\n",
      "[1, 2, 3, 4, 5, 6, 7, 8, 9, 10] [] []\n"
     ]
    }
   ],
   "source": [
    "n = 10\n",
    "\n",
    "A = list(range(1, n+1))\n",
    "\n",
    "print(A)\n",
    "\n",
    "\n",
    "\n",
    "\n",
    "A, B, C = list(range(1, n+1)), [], []\n",
    "print(A, B, C)"
   ]
  }
 ],
 "metadata": {
  "kernelspec": {
   "display_name": "Python 3",
   "language": "python",
   "name": "python3"
  },
  "language_info": {
   "codemirror_mode": {
    "name": "ipython",
    "version": 3
   },
   "file_extension": ".py",
   "mimetype": "text/x-python",
   "name": "python",
   "nbconvert_exporter": "python",
   "pygments_lexer": "ipython3",
   "version": "3.6.7"
  },
  "latex_envs": {
   "LaTeX_envs_menu_present": true,
   "autoclose": false,
   "autocomplete": true,
   "bibliofile": "biblio.bib",
   "cite_by": "apalike",
   "current_citInitial": 1,
   "eqLabelWithNumbers": true,
   "eqNumInitial": 1,
   "hotkeys": {
    "equation": "Ctrl-E",
    "itemize": "Ctrl-I"
   },
   "labels_anchors": false,
   "latex_user_defs": false,
   "report_style_numbering": false,
   "user_envs_cfg": false
  },
  "toc": {
   "base_numbering": 1,
   "nav_menu": {},
   "number_sections": true,
   "sideBar": true,
   "skip_h1_title": false,
   "title_cell": "Table of Contents",
   "title_sidebar": "Contents",
   "toc_cell": false,
   "toc_position": {},
   "toc_section_display": true,
   "toc_window_display": false
  }
 },
 "nbformat": 4,
 "nbformat_minor": 2
}
