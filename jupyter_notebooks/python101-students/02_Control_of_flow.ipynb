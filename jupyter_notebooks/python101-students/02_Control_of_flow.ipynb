{
 "cells": [
  {
   "cell_type": "markdown",
   "metadata": {
    "slideshow": {
     "slide_type": "slide"
    }
   },
   "source": [
    "# 조건문\n",
    "\n",
    "지금까지의 코드는 위에서부터 아래로 순차적으로 명령을 수행하는 프로그램을 작성하였다. \n",
    "\n",
    "제어문(Control of Flow)은 크게 반복문과 조건문으로 나눌 수 있고, 이는 순서도(Flow chart로 표현이 가능하다.)\n",
    "\n",
    "\n",
    "<center> \n",
    "    <img src=\"./images/02/if.png\", alt='if flowchart'/>\n",
    "</center>\n"
   ]
  },
  {
   "cell_type": "code",
   "execution_count": null,
   "metadata": {
    "scrolled": true,
    "slideshow": {
     "slide_type": "subslide"
    }
   },
   "outputs": [],
   "source": [
    "# 위의 flow chart로 표현하면 아래와 같다.\n",
    "# 주석 앞에 인덴트 해도 인덴트 에러 날 수 있다.\n",
    "a = 5\n",
    "if a > 5:\n",
    "    print(\"5 초과\")\n",
    "else:\n",
    "    print(\"5 이하\")\n",
    "\n",
    "print(a)"
   ]
  },
  {
   "cell_type": "markdown",
   "metadata": {
    "slideshow": {
     "slide_type": "slide"
    }
   },
   "source": [
    "## 조건문 문법\n",
    "\n",
    "1. `if` 문은 반드시 일정한 참/거짓을 판단할 수 있는 `조건식`과 함께 사용이 되어야한다.\n",
    "`if <조건식>:`\n",
    "\n",
    "2-1. `<조건식>`이 참인 경우 `:` 이후의 문장을 수행한다.\n",
    "\n",
    "2-2. `<조건식>`이 거짓인 경우 `else:` 이후의 문장을 수행한다.\n",
    "\n",
    "* 이때 반드시 **들여쓰기를** 유의해야한다. \n",
    "파이썬에서는 코드 블록을 자바나 C언어의 `{}`와 달리 `들여쓰기`로 판단하기 때문이다.\n",
    "* 앞으로 우리는 `PEP-8`에서 권장하는 `4spaces`를 사용할 것이다.\n"
   ]
  },
  {
   "cell_type": "markdown",
   "metadata": {},
   "source": [
    "<center>\n",
    "    <img src=\"./images/02/if_style.png\", alt=\"if style\"/>\n",
    "</center>"
   ]
  },
  {
   "cell_type": "markdown",
   "metadata": {
    "slideshow": {
     "slide_type": "subslide"
    }
   },
   "source": [
    "<center><strong style=\"font-size: 40px;\">우리는 4spaces를 맞춰서 씁니다!</strong></center>\n",
    "<br>\n",
    "\n",
    "<center>\n",
    "    <img src=\"./images/02/spacetab.png\", alt=\"[space vs tab]\"/>\n",
    "</center>    \n",
    "\n",
    "\n",
    "\n",
    "\n",
    "[출처 : 400,000 GitHub repositories, 1 billion files, 14 terabytes of code: Spaces or Tabs?](https://medium.com/@hoffa/400-000-github-repositories-1-billion-files-14-terabytes-of-code-spaces-or-tabs-7cfe0b5dd7fd)\n"
   ]
  },
  {
   "cell_type": "markdown",
   "metadata": {},
   "source": [
    "### 실습문제1 - 조건문 기초 활용\n",
    "\n",
    "\n",
    "> **조건문을 통해 변수 num의 값과 홀수/짝수 여부를 출력하세요.**\n",
    "\n",
    "---\n",
    "\n",
    "```\n",
    "예시 출력)\n",
    "3\n",
    "홀수입니다.\n",
    "```"
   ]
  },
  {
   "cell_type": "code",
   "execution_count": null,
   "metadata": {
    "slideshow": {
     "slide_type": "subslide"
    }
   },
   "outputs": [],
   "source": [
    "# 실습!\n",
    "num = int(input(\"점수를 입력하세요 : \"))\n",
    "\n",
    "# 아래에 코드를 작성하세요.\n",
    "if num % 2 == 0:\n",
    "    print(\"짝수입니다.\")\n",
    "else:\n",
    "    print(\"홀수입니다.\")"
   ]
  },
  {
   "cell_type": "code",
   "execution_count": null,
   "metadata": {},
   "outputs": [],
   "source": [
    "user_input = input()\n",
    "# 인풋 받은 값을 변수에 저장하지 않은면 값이 날아간다.\n",
    "\n",
    "print(user_input, type(user_input))\n",
    "# 인풋 값은 str으로 받아진다.\n",
    "\n",
    "number = int(input())\n",
    "print(number, type(number))\n",
    "# int로 받으려면 타입캐스팅 해줘야 한다.\n"
   ]
  },
  {
   "cell_type": "markdown",
   "metadata": {},
   "source": [
    "### 실습 문제 2\n",
    ">아래 코드의 출력 결과를 예상해보세요."
   ]
  },
  {
   "cell_type": "code",
   "execution_count": null,
   "metadata": {},
   "outputs": [],
   "source": [
    "if True:\n",
    "    if False:\n",
    "        print(1)\n",
    "        print(2)\n",
    "    else:\n",
    "        print(3)\n",
    "else:\n",
    "    print(4)\n",
    "print(5)\n",
    "\n",
    "# 3\n",
    "# 5"
   ]
  },
  {
   "cell_type": "markdown",
   "metadata": {},
   "source": [
    "### 실습 문제 3\n",
    "> 주머니에 5000원이 있다. 택시를 타려면 주머니에 4000원 이상 혹은 카드가 있어야 한다. 이 때, 택시를 탈 수 있는지를 확인하는 코드는?"
   ]
  },
  {
   "cell_type": "code",
   "execution_count": null,
   "metadata": {},
   "outputs": [],
   "source": [
    "cash = 5000\n",
    "card = False\n",
    "\n",
    "if cash >= 4000 or card == True: # == True 는 안써도 상관 없음 !!!!!!!! card는 True or False 일 테니, True일때 실행이면 뒤에  ==True 생략 가능\n",
    "    print(\"택시 타고 슝슝\")\n",
    "else:\n",
    "    print(\"걸어가세요....용사여....\")"
   ]
  },
  {
   "cell_type": "code",
   "execution_count": null,
   "metadata": {},
   "outputs": [],
   "source": [
    "# 위에 코드 함수화 하기 : is_taxi(돈, 카드여부), 결과값: True or False\n",
    "\n",
    "def is_taxi(cash, card):\n",
    "    if cash >= 4000 or card:\n",
    "        return \"택시 타고 슝슝\"\n",
    "    else:\n",
    "        return \"걸어가세요....용사여....\"\n",
    "    \n",
    "    \n",
    "print(is_taxi(3000, 0))\n",
    "\n",
    "# 함수에 return 문이 하나만 등장해야 한다고 생각할 수 도 있음 -> 변수에 집어넣고 변수값 return\n",
    "\n",
    "def is_taxi2(cash, card):\n",
    "    result = \"택시 ㄱ\" if cash >= 4000 or card \"걸어가셈\"\n",
    "    return result\n"
   ]
  },
  {
   "cell_type": "code",
   "execution_count": null,
   "metadata": {},
   "outputs": [],
   "source": []
  },
  {
   "cell_type": "markdown",
   "metadata": {
    "slideshow": {
     "slide_type": "slide"
    }
   },
   "source": [
    "## 복수 조건문\n",
    "\n",
    "2개 이상의 조건문을 활용할 경우 `elif <조건식>:`을 활용한다.\n",
    "<center>\n",
    "<img src=\"./images/02/elif.png\", alt=\"elif\">\n",
    "</center>"
   ]
  },
  {
   "cell_type": "markdown",
   "metadata": {
    "slideshow": {
     "slide_type": "subslide"
    }
   },
   "source": [
    "### 실습문제2 - 조건식 2개 이상 활용하기\n",
    "\n",
    "> 조건문을 통해 변수 score에 따른 평점을 출력하세요.\n",
    "\n",
    "|점수|등급|\n",
    "|---|---|\n",
    "|90점 이상|A|\n",
    "|80점 이상|B|\n",
    "|70점 이상|C|\n",
    "|60점 이상|D|\n",
    "|60점 미만|F|\n",
    "\n",
    "--- \n",
    "\n",
    "```\n",
    "예시 출력)\n",
    "B\n",
    "```"
   ]
  },
  {
   "cell_type": "code",
   "execution_count": null,
   "metadata": {
    "slideshow": {
     "slide_type": "-"
    }
   },
   "outputs": [],
   "source": [
    "# 실습!\n",
    "score = int(input(\"점수를 입력하세요 : \"))\n",
    "\n",
    "# 아래에 코드를 작성하세요.\n",
    "if score >= 90:\n",
    "    print(\"A\")\n",
    "elif score >= 80:\n",
    "    print(\"B\")\n",
    "elif score >= 70:\n",
    "    print(\"C\")\n",
    "elif score >= 60:\n",
    "    print(\"D\")\n",
    "else:\n",
    "    print(\"F\")"
   ]
  },
  {
   "cell_type": "markdown",
   "metadata": {
    "slideshow": {
     "slide_type": "subslide"
    }
   },
   "source": [
    "### 실습문제3 - 중첩 조건문 활용\n",
    "\n",
    "> **위의 실습문제 2코드를 활용하여 \n",
    "95점 이상이면, \"참잘했어요\"를 함께 출력해주세요**\n",
    "\n",
    "--- \n",
    "\n",
    "```\n",
    "예시 출력)\n",
    "A\n",
    "참잘했어요\n",
    "```"
   ]
  },
  {
   "cell_type": "code",
   "execution_count": null,
   "metadata": {},
   "outputs": [],
   "source": [
    "# 실습!\n",
    "score = 30\n",
    "\n",
    "#if socre >=95:\n",
    "#    print(\"A \\n 참잘했어요\")\n",
    "\n",
    "print(score)\n",
    "if score >= 90:\n",
    "    print(\"A\")\n",
    "    if score >= 95:\n",
    "        print(\"참잘했어요\")\n",
    "elif score >= 80:\n",
    "    print(\"B\")\n",
    "elif score >= 70:\n",
    "    print(\"C\")\n",
    "elif score >= 60:\n",
    "    print(\"D\")\n",
    "else:\n",
    "    print(\"F\")\n",
    "    if score < 50:\n",
    "        print(\"교수님의 총에 학점이 사망하였습니다\")"
   ]
  },
  {
   "cell_type": "code",
   "execution_count": null,
   "metadata": {
    "scrolled": true
   },
   "outputs": [],
   "source": [
    "\"\"\"\n",
    "FizzBuzz\n",
    "3의 배수면 Fizz\n",
    "5의 배수면 Buzz\n",
    "3, 5의 공배수면 FizzBuzz\n",
    "나머지는 숫자 출력\n",
    "\"\"\"\n",
    "n = int(input(\"숫자를 입력하세요 : \"))\n",
    "\n",
    "for i in range(1, n+1):\n",
    "    if i % 15 == 0:\n",
    "        print(\"FizzBuzz\")\n",
    "    elif i % 5 == 0:\n",
    "        print(\"Buzz\")       \n",
    "    elif i% 3 == 0:\n",
    "        print(\"Fizz\")\n",
    "    else:\n",
    "        print(i)\n",
    "        \n",
    "\"\"\"\n",
    "3과 5의 공배수: if i % 3 == 0 and i % 5 ==0\n",
    "\"\"\""
   ]
  },
  {
   "cell_type": "markdown",
   "metadata": {},
   "source": [
    "### 실습문제\n",
    "#### 중간값 구하기\n",
    "> 정수 3개가 들어온다. 이 때, 2번째로 작은 정수를 출력하라"
   ]
  },
  {
   "cell_type": "code",
   "execution_count": null,
   "metadata": {},
   "outputs": [],
   "source": [
    "# 나의 정답\n",
    "                \n",
    "# 수가 3개 있으면, 다 다르다고 가정할 때, 중간 값을 출력하는 방법? \n",
    "# 1. 세 개의 수 중에 큰 값 보단 작아야 한다.\n",
    "# 2. 세 개의 수 중에  제일 작은 값 보단 커야 한다. \n",
    "# 3. 그럼 맥시멈과 미니멈을 찾고 비교해야 하나?\n",
    "\n",
    "\n",
    "def second_number(a, b, c):\n",
    "    num_list = [a, b, c]\n",
    "    min_num, max_num = num_list[0], num_list[0]\n",
    "    for i in num_list:\n",
    "        if i < min_num:\n",
    "            min_num = i\n",
    "        if i > max_num:\n",
    "            max_num = i\n",
    "        if i > min_num and i < max_num:\n",
    "            return i\n",
    "     \n",
    "\n",
    "print(second_number(10, 17, 15))\n"
   ]
  },
  {
   "cell_type": "code",
   "execution_count": null,
   "metadata": {},
   "outputs": [],
   "source": [
    "# 여러 인자 받기\n",
    "# 라고 썻지만 3개일때만 돌 수 잇음\n",
    "\n",
    "def second_number(*numbs):\n",
    "    num_list = list(numbs)\n",
    "    min_num, max_num = num_list[0], num_list[0]\n",
    "    for i in num_list:\n",
    "        if i < min_num:\n",
    "            min_num = i\n",
    "        if i > max_num:\n",
    "            max_num = i\n",
    "        if i > min_num and i < max_num:\n",
    "            return i\n",
    "        \n",
    "        \n",
    "        \n",
    "print(second_number(22, 6, 10))\n",
    "        "
   ]
  },
  {
   "cell_type": "code",
   "execution_count": null,
   "metadata": {},
   "outputs": [],
   "source": [
    "# 선생님 풀이\n",
    "a, b, c = 10, 15, 5\n",
    "\n",
    "#케이스는 총 3\n",
    "# a 가 middle\n",
    "# b 가 middle\n",
    "#c 가 middle\n",
    "\n",
    "def second_number(a, b, c):\n",
    "    if (b <= a and a <= c) or (c <= a and a <= b):\n",
    "        return a\n",
    "    elif (a<=b and b<=c) or (c <=b and b<=a):\n",
    "        return b\n",
    "    else:\n",
    "        return c\n",
    "\n",
    "    \n",
    "#테스트 코드\n",
    "print(second_number(0, -1, 1))\n",
    "print(second_number(1, 0, 2))\n",
    "\n",
    "print(second_number(1, 2, 3))\n",
    "print(second_number(-2, -3, 0))\n",
    "\n",
    "print(second_number(1, -1, 0))\n",
    "print(second_number(10, 20, 30))\n",
    "\n",
    "print(second_number(1, 1, 1))\n",
    "print(second_number(-3, -3, -3))\n",
    "\n"
   ]
  },
  {
   "cell_type": "code",
   "execution_count": null,
   "metadata": {},
   "outputs": [],
   "source": [
    "# 흥미로운 코드\n",
    "\n",
    "# a, b, c를 각각 기준값으로 둠\n",
    "# b - a 와 c -a 를 곱함, 음수면 두 수의 부호가 다른 것 \n",
    "# 0일 때는 못구함\n",
    "\n",
    "def second(a, b, c):\n",
    "    if((b - a) * (c - a)) < 0:\n",
    "        return a\n",
    "    elif ((c - b) * (a - b)) < 0:\n",
    "        return b\n",
    "    else:\n",
    "        return c"
   ]
  },
  {
   "cell_type": "code",
   "execution_count": null,
   "metadata": {},
   "outputs": [],
   "source": [
    "# 3개 이상 수가 들어올때 -> sort 해야 함, 알고리즘 문제가 된다.\n",
    "def second(*numbers):\n",
    "    sort.......\n"
   ]
  },
  {
   "cell_type": "markdown",
   "metadata": {},
   "source": [
    "### 실습문제\n",
    "#### 환율 계산\n",
    "> 사용자가 띄어쓰기를 기준으로, (Volume  단위) 로 입력한다. 원화로 계산해서 print 해주자."
   ]
  },
  {
   "cell_type": "code",
   "execution_count": null,
   "metadata": {
    "scrolled": true
   },
   "outputs": [],
   "source": [
    "currency = {\n",
    "    'USD' : 1167,\n",
    "    'JPY' : 10.96,\n",
    "    'EUR' : 1268,\n",
    "    'CNY' : 171\n",
    "}\n",
    "\n",
    "# input => 100 달러, 300 유로, 200 위안, 1000 엔\n",
    "\n",
    "\n",
    "# 일단 모르겠는건 다 써보자\n",
    "# 인풋을 쪼갠다 숫자 / 단위로\n",
    "# 딕셔너리 값과 매칭한다 key = '달러'\n",
    "# 키값과 입력 숫자를 곱해서 리턴한다\n",
    "\n",
    "# volume = 100\n",
    "# unit = '달러'\n",
    "# v * u\n",
    "\n",
    "\n",
    "\n",
    "def currency_calculator(won_change):\n",
    "    currency = {\n",
    "    'USD' : 1167,\n",
    "    'JPY' : 10.96,\n",
    "    'EUR' : 1268,\n",
    "    'CNY' : 171\n",
    "}\n",
    "    won_change = input().split(' ')\n",
    "    vol, unit = int(won_change[0]),  won_change[1]\n",
    "    if unit == '달러':\n",
    "        result = vol * currency['USD'] #딕셔너리 밸류 꺼내기\n",
    "    if unit == '엔':\n",
    "        result = vol * currency['JPY'] #딕셔너리 밸류 꺼내기\n",
    "    if unit == '유로':\n",
    "        result = vol * currency['EUR'] #딕셔너리 밸류 꺼내기\n",
    "    else:\n",
    "        result = vol * currency['CNY'] #딕셔너리 밸류 꺼내기\n",
    "    return result\n",
    "\n",
    "print(currency_calculator())\n",
    "    "
   ]
  },
  {
   "cell_type": "code",
   "execution_count": null,
   "metadata": {},
   "outputs": [],
   "source": [
    "# volume = 100\n",
    "# unit = '달러'\n",
    "\n",
    "def currency_calculator(volume, unit):\n",
    "    currency = {\n",
    "        'USD' : 1167,\n",
    "        'JPY' : 10.96,\n",
    "        'EUR' : 1268,\n",
    "        'CNY' : 171\n",
    "    }\n",
    "\n",
    "    if unit == '달러':\n",
    "        key = 'USD'\n",
    "    elif unit == '엔':\n",
    "        key = 'JPY'\n",
    "    elif unit == '유로':\n",
    "        key = 'EUR'\n",
    "    elif unit == '위안':\n",
    "        key = 'CNY'\n",
    "    else:\n",
    "        print(\"error\")\n",
    "\n",
    "    return round((volume * currency[key]), 2)\n",
    "\n",
    "print(currency_calculator(10, '엔'))"
   ]
  },
  {
   "cell_type": "code",
   "execution_count": null,
   "metadata": {},
   "outputs": [],
   "source": [
    "def currency_calculator(volume, unit):\n",
    "    currency = {\n",
    "        'USD' : 1167,\n",
    "        'JPY' : 10.96,\n",
    "        'EUR' : 1268,\n",
    "        'CNY' : 171\n",
    "    }\n",
    "    unit_set = {\n",
    "        '달러' : 'USD',\n",
    "        '엔' : 'JPY',\n",
    "        '유로' : 'EUR',\n",
    "        '위안' : 'CNY'\n",
    "    }\n",
    "    symbol = unit_set[unit]\n",
    "    return round(volume * currency[symbol], 2)\n",
    "\n",
    "#     if unit == '달러':\n",
    "#         key = 'USD'\n",
    "#     elif unit == '엔':\n",
    "#         key = 'JPY'\n",
    "#     elif unit == '유로':\n",
    "#         key = 'EUR'\n",
    "#     elif unit == '위안':\n",
    "#         key = 'CNY'\n",
    "#     else:\n",
    "#         print(\"error\")\n",
    "   \n",
    "\n",
    "print(currency_calculator(10, '엔'))"
   ]
  },
  {
   "cell_type": "code",
   "execution_count": null,
   "metadata": {},
   "outputs": [],
   "source": [
    "# input 받기\n",
    "\n",
    "user_input = input('volume & unit: ')\n",
    "volume = int(user_input[0])\n",
    "unit = user_inpt[1]\n",
    "\n"
   ]
  },
  {
   "cell_type": "code",
   "execution_count": null,
   "metadata": {},
   "outputs": [],
   "source": [
    "# 다음 코드의 출력값은 무엇일까요\n",
    "\n",
    "string = \"Life is too short, you need python\"\n",
    "\n",
    "if \"wife\" in string:\n",
    "    print(\"wife\")\n",
    "elif \"python\" in string and \"you\" not in string:\n",
    "    print(\"python\")\n",
    "elif \"shirt\" not in string:\n",
    "    print(\"shirt\")\n",
    "elif \"need\" in string:\n",
    "    print(\"need\")\n",
    "else:\n",
    "    print(\"Nothing\")"
   ]
  },
  {
   "cell_type": "code",
   "execution_count": null,
   "metadata": {},
   "outputs": [],
   "source": []
  },
  {
   "cell_type": "markdown",
   "metadata": {
    "slideshow": {
     "slide_type": "slide"
    }
   },
   "source": [
    "## 조건 표현식(Conditional Expression)\n",
    "\n",
    "**활용법**\n",
    "\n",
    "```\n",
    "true_value if <조건식> else false_value\n",
    "```\n",
    "    \n",
    "와 같이 표현식을 작성할 수 있다. 이는 보통 다른 언어에서 활용되는 삼항연산자와 동일하다."
   ]
  },
  {
   "cell_type": "code",
   "execution_count": null,
   "metadata": {},
   "outputs": [],
   "source": [
    "a = 3\n",
    "\n",
    "# print(\"3이네!\") | if a == 3 | else print(\"3이 아니네.\")\n",
    "# 조건이 맞을때 실행될 것 조건(if~~) else 조건이 아닐때 실행될 것\n",
    "# if 와 else로만 이루어진 구문에 사용"
   ]
  },
  {
   "cell_type": "markdown",
   "metadata": {
    "slideshow": {
     "slide_type": "subslide"
    }
   },
   "source": [
    "* 표현식은 보통 조건에 따라 값을 정할 때 많이 활용된다."
   ]
  },
  {
   "cell_type": "code",
   "execution_count": null,
   "metadata": {},
   "outputs": [],
   "source": [
    "# 아래의 코드는 무엇을 위한 코드일까요?\n",
    "num = int(input(\"숫자를 입력하세요 : \"))\n",
    "value = num if num >= 0 else 0\n",
    "# value에 등호 오른쪽에 있는 식을 넣는 것임 \n",
    "print(value)"
   ]
  },
  {
   "cell_type": "code",
   "execution_count": null,
   "metadata": {
    "slideshow": {
     "slide_type": "fragment"
    }
   },
   "outputs": [],
   "source": [
    "# 위의 코드와 동일한 코드입니다.\n",
    "num = int(input('숫자를 넣어랏 ! '))\n",
    "if num >= 0:\n",
    "    value = num\n",
    "else:\n",
    "    value = 0\n",
    "print(value)"
   ]
  },
  {
   "cell_type": "code",
   "execution_count": null,
   "metadata": {
    "slideshow": {
     "slide_type": "subslide"
    }
   },
   "outputs": [],
   "source": [
    "# 다음의 코드와 동일한 조건 표현식을 작성해보세요.\n",
    "num = 45\n",
    "if num % 2:\n",
    "    result = '홀수입니다.'\n",
    "else:\n",
    "    result = '짝수입니다.'\n",
    "print(result)\n",
    "\n",
    "# num % 2 == 1 으로 안써도 되는 이유  -> bool때문에(2로 나누면 모든 수는 나머지가 0또는 1이기 때문에 true / false 로 나뉘어 코드가 돌아감)"
   ]
  },
  {
   "cell_type": "code",
   "execution_count": null,
   "metadata": {},
   "outputs": [],
   "source": [
    "# 여기에 코드를 작성하세요.\n",
    "result = '홀수입니다' if num % 2 else '짝수입니다'\n",
    "print(result)"
   ]
  },
  {
   "cell_type": "markdown",
   "metadata": {
    "slideshow": {
     "slide_type": "slide"
    }
   },
   "source": [
    "# 반복문\n",
    "\n",
    "## `while` 문\n",
    "\n",
    "`while`문은 조건식이 참(True)인 경우 반복적으로 코드를 실행합니다. \n",
    "<br>\n",
    "<br>\n",
    "<center> \n",
    "    <img src=\"./images/02/while.png\", alt=\"while\"/>\n",
    "</center>\n",
    "\n",
    "**while 문은 종료조건을 반드시 설정해주어야 합니다.**"
   ]
  },
  {
   "cell_type": "code",
   "execution_count": null,
   "metadata": {},
   "outputs": [],
   "source": [
    "\"\"\"\n",
    "a = 0\n",
    "while 조건식:\n",
    "\"\"\"\n",
    "\n",
    "a = 0\n",
    "while a < 5:\n",
    "    print(a)\n",
    "    a += 1\n",
    "print(\"끝\")"
   ]
  },
  {
   "cell_type": "markdown",
   "metadata": {
    "slideshow": {
     "slide_type": "subslide"
    }
   },
   "source": [
    "<center>\n",
    "    <img src=\"./images/02/while_style.png\", alt=\"\">\n",
    "</center>\n",
    "\n",
    "`while`문 역시 `<조건식>`이후에 `:`이 반드시 필요하며, \n",
    "\n",
    "이후 오는 코드 블록은 `4spaces`로 **들여쓰기**를 해주셔야 합니다."
   ]
  },
  {
   "cell_type": "markdown",
   "metadata": {
    "slideshow": {
     "slide_type": "slide"
    }
   },
   "source": [
    "## `for` 문\n",
    "\n",
    "`for`문은 정해진 범위 내(시퀀스)에서 순차적으로 코드를 실행합니다.\n",
    "\n",
    "<br>\n",
    "<center>\n",
    "    <img src=\"./images/02/loop-for.png\", alt=\"\">\n",
    "</center>"
   ]
  },
  {
   "cell_type": "code",
   "execution_count": null,
   "metadata": {
    "slideshow": {
     "slide_type": "subslide"
    }
   },
   "outputs": [],
   "source": [
    "ss3 = ['황은석', '지상현', '조성규', '장재영', '이지선']\n",
    "for name in ss3:\n",
    "#?는 variable, 변수는 어떻게 이름 짓던 상관 없음\n",
    "    print(name)\n",
    "    \n",
    "for number in range(10):\n",
    "    print(number)\n",
    "    \n",
    "print('---', number)\n",
    "# for문 안의 변수가 밖에서도 살아있음 -> 파이썬에서는 이렇게 됨"
   ]
  },
  {
   "cell_type": "markdown",
   "metadata": {
    "slideshow": {
     "slide_type": "subslide"
    }
   },
   "source": [
    "<center>\n",
    "    <img src=\"./images/02/for_style.png\", alt=\"for_style\">\n",
    "</center>\n",
    "\n",
    "---\n",
    "```\n",
    "for variable in sequence:\n",
    "    code line1\n",
    "    code line2\n",
    "```\n",
    "\n",
    "`for`문은 `sequence`를 순차적으로 **variable**에 값을 바인딩하며, 코드 블록을 시행합니다."
   ]
  },
  {
   "cell_type": "markdown",
   "metadata": {
    "slideshow": {
     "slide_type": "subslide"
    }
   },
   "source": [
    "![for animation](./images/02/for.gif)"
   ]
  },
  {
   "cell_type": "markdown",
   "metadata": {
    "slideshow": {
     "slide_type": "subslide"
    }
   },
   "source": [
    "###  실습문제\n",
    "\n",
    "> 반복문과 조건문만 활용하여 1~30까지 숫자 중에 홀수만 담긴 리스트를 만드세요\n",
    "\n",
    "---\n",
    "```\n",
    "예시 출력)\n",
    "[1, 3, 5, 7, 9, 11, 13, 15, 17, 19, 21, 23, 25, 27, 29]\n",
    "```"
   ]
  },
  {
   "cell_type": "code",
   "execution_count": null,
   "metadata": {
    "slideshow": {
     "slide_type": "subslide"
    }
   },
   "outputs": [],
   "source": [
    "# 여기에 코드를 작성하세요.\n",
    "hol_list = [] # odd = 홀수\n",
    "for i in range(1, 31):\n",
    "    if i % 2:\n",
    "        hol_list.append(i)\n",
    "        \n",
    "print(hol_list)"
   ]
  },
  {
   "cell_type": "code",
   "execution_count": null,
   "metadata": {},
   "outputs": [],
   "source": [
    "holsu_list = []\n",
    "for num in range(1, 31):\n",
    "    if num % 2:\n",
    "        holsu_list += [num]      # 내가 에러났던 이유 -> list(num)\n",
    "print(holsu_list)"
   ]
  },
  {
   "cell_type": "code",
   "execution_count": null,
   "metadata": {},
   "outputs": [],
   "source": [
    "list('1231321') # list()함수 안에 변수로 넣을 수 있는 값은 iterable | int안됨"
   ]
  },
  {
   "cell_type": "code",
   "execution_count": null,
   "metadata": {},
   "outputs": [],
   "source": [
    "# 1부터 100까지의 자연수 중 5의 배수들의 총 합을 구\n",
    "\n",
    "\n",
    "# sum_5 = []\n",
    "# for i in range(1, 101):\n",
    "#     if i % 5 == 0:\n",
    "#         sum_5 += [i]\n",
    "# print(sum(sum_5))\n",
    "\n",
    "\n",
    "\n",
    "sumOnumbers = 0\n",
    "for i in range(1, 101):\n",
    "    if i % 5 ==0:\n",
    "            sumOnumbers += i\n",
    "\n",
    "result = sumOnumbers\n",
    "print(result)\n",
    "\n",
    "\n",
    "# range(1, 21)로 줄이면 시간단축됨 / 시그마로 됨\n"
   ]
  },
  {
   "cell_type": "code",
   "execution_count": null,
   "metadata": {},
   "outputs": [],
   "source": []
  },
  {
   "cell_type": "markdown",
   "metadata": {},
   "source": [
    "### 실습문제\n",
    "#### sigma\n",
    "\n",
    ">정수 n이 들어오면, 1 부터 n까지의 합"
   ]
  },
  {
   "cell_type": "code",
   "execution_count": null,
   "metadata": {},
   "outputs": [],
   "source": [
    "def sigma(n):\n",
    "    sum_all = 0\n",
    "    for i in range(1, n+1):\n",
    "        sum_all += i\n",
    "    return sum_all\n",
    "    \n",
    "print(sigma(20))"
   ]
  },
  {
   "cell_type": "code",
   "execution_count": null,
   "metadata": {},
   "outputs": [],
   "source": [
    "# 선생님 풀이\n",
    "n = 10\n",
    "total = 0\n",
    "for i in range(1, n+1):\n",
    "    total += 1\n",
    "print total    \n",
    "\n",
    "\n",
    "# SUM 으로 풀기\n",
    "n = 10\n",
    "total = 0\n",
    "print sum(list(range(1, n+1)))    \n",
    "\n"
   ]
  },
  {
   "cell_type": "code",
   "execution_count": null,
   "metadata": {},
   "outputs": [],
   "source": []
  },
  {
   "cell_type": "markdown",
   "metadata": {},
   "source": [
    "### 실습문제\n",
    "#### 구구단\n",
    "> `for` 와 `range` 로 구구단 출력하긔\n",
    ">함수 안써도 되지만, 쓸거면 몇 단인지 나오게 해보기"
   ]
  },
  {
   "cell_type": "code",
   "execution_count": null,
   "metadata": {},
   "outputs": [],
   "source": [
    "# 1 2 3 4 5 6 7 8 9\n",
    "# 2 4 6 8 10 12 14 16 18\n",
    "# 띄어쓰기 2칸으로 나오게 하기\n",
    "\n",
    "for i in range(1, 10):\n",
    "    for n in range(1, 10):\n",
    "        print(i * n, end='  ')\n",
    "        if n == 9:\n",
    "            print('\\n')\n"
   ]
  },
  {
   "cell_type": "code",
   "execution_count": null,
   "metadata": {},
   "outputs": [],
   "source": [
    "# 선생님 풀이 \n",
    "for i in range(1, 10):\n",
    "    for n in range(1, 10):\n",
    "        print(i * n, end='  ')\n",
    "    print( )\n"
   ]
  },
  {
   "cell_type": "markdown",
   "metadata": {},
   "source": [
    "### 실습문제\n",
    "#### 삼각형\n",
    ">입력으로 h(높이)가 들어옵니다. 높이만큼 산 모양으로 출력하세요. (함수) <br>\n",
    "> 함수지만 print가 있음 (no out)\n",
    "\n",
    "eg.\n",
    "\n",
    "```python\n",
    "h = 3\n",
    "\n",
    "  *\n",
    " ***\n",
    "*****\n",
    "```\n",
    "\n",
    "##### 추가문제 : 트리 꼭대기 에다 ☆ 찍기"
   ]
  },
  {
   "cell_type": "code",
   "execution_count": null,
   "metadata": {},
   "outputs": [],
   "source": [
    "# 내 풀이 1\n",
    "def make_tree(h):\n",
    "    for i in range(1, 2 * h):\n",
    "        if i % 2 == 1:\n",
    "            print((' ' * h) + ('*' * i))\n",
    "            h -= 1\n",
    "\n",
    "make_tree(20)\n"
   ]
  },
  {
   "cell_type": "code",
   "execution_count": null,
   "metadata": {},
   "outputs": [],
   "source": [
    "# 내 풀이 2\n",
    "h = int(input())\n",
    "def make_tree(h):\n",
    "    for i in range(1, 2 * h):\n",
    "        if i % 2 == 1:\n",
    "            print((' ' * h) + ('*' * i))\n",
    "            h -= 1\n",
    "\n",
    "make_tree(20)"
   ]
  },
  {
   "cell_type": "code",
   "execution_count": null,
   "metadata": {},
   "outputs": [],
   "source": [
    "# 선생님 풀이\n",
    "# h = 3 이면 맨 밑에 별은 (2h - 1)개 찍혀야 함\n",
    "\n",
    "h = 20\n",
    "for i in range(h):\n",
    "    for j in reversed(range(h)):\n",
    "        if i < j:\n",
    "            print(' ', end='')\n",
    "        else:\n",
    "            print('*', end='')\n",
    "    for j in range(h):\n",
    "            if i > j:\n",
    "                print('*', end='')\n",
    "    print()"
   ]
  },
  {
   "cell_type": "code",
   "execution_count": null,
   "metadata": {
    "scrolled": true
   },
   "outputs": [],
   "source": [
    "# 선생님 풀이 2\n",
    "\n",
    "h = 10\n",
    "\n",
    "for i in range(h):\n",
    "    print(' ' * (h -i -1) + '*' * ((i+1) *2 -1) + ' ' * (h -i -1))"
   ]
  },
  {
   "cell_type": "code",
   "execution_count": null,
   "metadata": {},
   "outputs": [],
   "source": [
    "# 선생님 풀이 3 / 정사각형 만들기\n",
    "\n",
    "for i in range(10):\n",
    "    for j in range(10):\n",
    "        print(\"*\", end=' ')\n",
    "    print()\n",
    "    \n",
    "    \n",
    "print('-------------------------------------')    \n",
    "    \n",
    "    \n",
    "n = 10\n",
    "for i in range(n):\n",
    "    print('*' * n, end=' ')\n",
    "    print()"
   ]
  },
  {
   "cell_type": "code",
   "execution_count": null,
   "metadata": {},
   "outputs": [],
   "source": [
    "def make_tree(h):\n",
    "    print((' ' * h) + '☆')\n",
    "    for i in range(1, h+1):\n",
    "        print((' ' * h) + ('*' * i))\n",
    "        h -= 1\n",
    "\n",
    "make_tree(10)"
   ]
  },
  {
   "cell_type": "markdown",
   "metadata": {
    "slideshow": {
     "slide_type": "slide"
    }
   },
   "source": [
    "### index와 함께 `for`문 활용하기\n",
    "\n",
    "`enumerate()`를 활용하면, 추가적인 변수를 활용할 수 있다."
   ]
  },
  {
   "cell_type": "code",
   "execution_count": null,
   "metadata": {},
   "outputs": [],
   "source": [
    "lunch = ['생선가스', '북어해장국', '비엔나 소세지']\n",
    "\n",
    "for index, menu in enumerate(lunch):\n",
    "    print(index, menu)\n",
    "    \n",
    "# enumerate()함수를 이용하면, 리스트의 인덱스값도 같이 알 수 있다. index값은 처음에 온다(python의 약속)"
   ]
  },
  {
   "cell_type": "markdown",
   "metadata": {
    "slideshow": {
     "slide_type": "subslide"
    }
   },
   "source": [
    "* `enumerate()`는 [파이썬 표준 라이브러리의 내장함수](https://docs.python.org/ko/3.6/library/functions.html) 중 하나이며, 다음과 같이 구성되어 있다.\n",
    "\n",
    "<center>\n",
    "    <img src=\"./images/02/enumerate.png\", alt=\"enumerate\">\n",
    "</center>"
   ]
  },
  {
   "cell_type": "code",
   "execution_count": null,
   "metadata": {},
   "outputs": [],
   "source": [
    "mates = ['박준태', '박찬미', '백지원', '송건호', '안도건']\n",
    "enu = enumerate(mates) # 출력값: <enumerate at 0x1a6cba73828> -> 16진수 -> 주소가 찍히고 있는 것\n",
    "list(enu)"
   ]
  },
  {
   "cell_type": "code",
   "execution_count": null,
   "metadata": {},
   "outputs": [],
   "source": [
    "list(enumerate(mates, start = 1)) # start값을 지정해 줄 수 있다"
   ]
  },
  {
   "cell_type": "markdown",
   "metadata": {
    "slideshow": {
     "slide_type": "subslide"
    }
   },
   "source": [
    "### dictionary 반복문 활용하기\n",
    "\n",
    "기본적으로 dictionary를 `for`문을 시행시키면 다음과 같이 시행됩니다."
   ]
  },
  {
   "cell_type": "code",
   "execution_count": null,
   "metadata": {
    "scrolled": true
   },
   "outputs": [],
   "source": [
    "classroom = {\n",
    "    \"teacher\" : \"Yu\",\n",
    "    \"leader\" : \"Hwang\",\n",
    "    \"CA\" : \"Kang\",\n",
    "}\n",
    "\n",
    "for role in classroom:\n",
    "    print(role) # 딕셔너리 for문 돌리면 key만 튀어나옴    "
   ]
  },
  {
   "cell_type": "markdown",
   "metadata": {
    "slideshow": {
     "slide_type": "subslide"
    }
   },
   "source": [
    "dictionary의 `key`를 출력함으로써 `value`에도 접근할 수 있기 때문입니다.\n",
    "\n",
    "따라서 dictionary의 value를 출력하기 위해서는 아래와 같이 작성합니다."
   ]
  },
  {
   "cell_type": "code",
   "execution_count": null,
   "metadata": {},
   "outputs": [],
   "source": [
    "for role in classroom:\n",
    "    print(classroom[role]) # Value 값만 뽑기"
   ]
  },
  {
   "cell_type": "markdown",
   "metadata": {
    "slideshow": {
     "slide_type": "subslide"
    }
   },
   "source": [
    "* dictionary에서 `for` 활용하는 4가지 방법\n",
    "\n",
    "```python\n",
    "# 0. dictionary (key 반복)\n",
    "for key in dict:\n",
    "    print(key)\n",
    "\n",
    "# 1. key 반복\n",
    "for key in dict.keys():\n",
    "    print(key)\n",
    "    \n",
    "# 2. value 반복    \n",
    "for val in dict.values():\n",
    "    print(val)\n",
    "\n",
    "# 3. key와 value 반복\n",
    "for key, val in dict.items():\n",
    "    print(key, val)\n",
    "\n",
    "```"
   ]
  },
  {
   "cell_type": "markdown",
   "metadata": {
    "slideshow": {
     "slide_type": "subslide"
    }
   },
   "source": [
    "### 실습문제 \n",
    "\n",
    "> 한번 직접 4가지 반복문을 활용해보고 출력되는 결과를 확인해보세요.\n",
    "\n",
    "```\n",
    "classroom = {\"teacher\": \"Kim\", \"student1\": \"Hong\", \"student2\": \"Kang\"}\n",
    "\n",
    "```"
   ]
  },
  {
   "cell_type": "code",
   "execution_count": null,
   "metadata": {},
   "outputs": [],
   "source": [
    "# 여기에 코드를 작성하세요.\n",
    "classroom = {\"teacher\": \"Kim\", \"student1\": \"Hong\", \"student2\": \"Kang\"}\n",
    "\n",
    "for key in classroom:\n",
    "    print(key)\n",
    "\n",
    "print(\"------------------\")\n",
    "\n",
    "for key in classroom.keys():\n",
    "    print(key)\n",
    "\n",
    "print(\"------------------\")    \n",
    "\n",
    "for key in classroom:\n",
    "    print(classroom[key])\n",
    "\n",
    "print(\"------------------\")\n",
    "\n",
    "for val in classroom.values():\n",
    "    print(val)\n",
    "\n",
    "print(\"------------------\")    \n",
    "\n",
    "for key, val in classroom.items():\n",
    "    print(key, val)\n",
    "    \n",
    "print(\"------------------\")\n",
    "\n",
    "for key, val in classroom.items():\n",
    "    print(f'{key} is {val}')"
   ]
  },
  {
   "cell_type": "markdown",
   "metadata": {
    "slideshow": {
     "slide_type": "slide"
    }
   },
   "source": [
    "## `break`, `continue`, `else`\n",
    "\n",
    "### `break`\n",
    "\n",
    "`break`문은 반복문을 종료하는 표현입니다. "
   ]
  },
  {
   "cell_type": "code",
   "execution_count": null,
   "metadata": {},
   "outputs": [],
   "source": [
    "for i in range(10):\n",
    "    if i == 6:\n",
    "        break\n",
    "    print(i)"
   ]
  },
  {
   "cell_type": "markdown",
   "metadata": {
    "slideshow": {
     "slide_type": "subslide"
    }
   },
   "source": [
    "#### 실습문제\n",
    "\n",
    "> 조건문과 반복문, break를 통해서 아래의 코드와 동일한 코드를 작성하세요.\n",
    "> \n",
    "> (3이 있을 경우 True를 print하고, 아닐 경우 False를 print 합니다.)\n",
    "\n",
    "\n",
    "```python\n",
    "numbers = [1, 5, 10]\n",
    "print(3 in numbers)\n",
    "```\n",
    "\n",
    "---\n",
    "```\n",
    "예시 출력)\n",
    "False\n",
    "```"
   ]
  },
  {
   "cell_type": "code",
   "execution_count": null,
   "metadata": {},
   "outputs": [],
   "source": [
    "numbers = [1, 5, 10]\n",
    "# 여기에 코드를 작성하세요.\n",
    "\n",
    "result = False\n",
    "for number in numbers:\n",
    "    if number == 3:\n",
    "        result = True\n",
    "        break\n",
    "print(result)"
   ]
  },
  {
   "cell_type": "markdown",
   "metadata": {
    "slideshow": {
     "slide_type": "subslide"
    }
   },
   "source": [
    "### `continue` \n",
    "\n",
    "`continue`문은 continue 이후의 코드를 수행하지 않고 다음 요소를 선택해 반복을 계속 수행합니다."
   ]
  },
  {
   "cell_type": "code",
   "execution_count": null,
   "metadata": {},
   "outputs": [],
   "source": [
    "for i in range(6):\n",
    "    if i % 2 == 0:\n",
    "        continue\n",
    "    print(f'{i} is odd number')\n",
    "    \n",
    "# 0은 컨티뉴 만나서 for문으로 올라가고, 1은 print로 찍히고, 2는 continue 만나서 for 문으로 올라가고.....\n",
    "# 컨티뉴는 for문과 관련이 있는 것"
   ]
  },
  {
   "cell_type": "markdown",
   "metadata": {
    "slideshow": {
     "slide_type": "subslide"
    }
   },
   "source": [
    "### `else`\n",
    "\n",
    "`else`문은 끝까지 반복문을 시행한 이후에 실행됩니다.\n",
    "\n",
    "(`break`를 통해 중간에 종료되지 않은 경우만 실행)"
   ]
  },
  {
   "cell_type": "code",
   "execution_count": null,
   "metadata": {},
   "outputs": [],
   "source": [
    "for i in range(3):\n",
    "    if i == 3:\n",
    "        print(f'{i}에서 break 실행됨')\n",
    "        break\n",
    "else:\n",
    "        print('break 안잡힘')"
   ]
  },
  {
   "cell_type": "code",
   "execution_count": null,
   "metadata": {},
   "outputs": [],
   "source": [
    "for i in range(3):\n",
    "    if i == 1:\n",
    "        print(f'{i}에서 break 실행됨')\n",
    "        break\n",
    "else:\n",
    "        print('break 안잡힘')"
   ]
  },
  {
   "cell_type": "markdown",
   "metadata": {},
   "source": [
    "### Problem Set!"
   ]
  },
  {
   "cell_type": "markdown",
   "metadata": {},
   "source": [
    "> `colors = ['red', 'green', 'blue', 'white', 'black', 'gold']` 다음 리스트에서 0, 4, 5  index 에 있는 요소들을 삭제한 새로운 리스트를 만드세요"
   ]
  },
  {
   "cell_type": "code",
   "execution_count": null,
   "metadata": {},
   "outputs": [],
   "source": [
    "# 풀이 1\n",
    "colors = ['red', 'green', 'blue', 'white', 'black', 'gold']\n",
    "\n",
    "colors.remove(colors[5])\n",
    "colors.remove(colors[4])\n",
    "colors.remove(colors[0])\n",
    "\n",
    "new_list = colors\n",
    "print(new_list)"
   ]
  },
  {
   "cell_type": "code",
   "execution_count": null,
   "metadata": {},
   "outputs": [],
   "source": [
    "# 풀이 2\n",
    "colors = ['red', 'green', 'blue', 'white', 'black', 'gold']\n",
    "\n",
    "new_list = []\n",
    "\n",
    "for i in [1, 2, 3]:\n",
    "    new_list.append(colors[i])\n",
    "\n",
    "print(new_list)"
   ]
  },
  {
   "cell_type": "code",
   "execution_count": null,
   "metadata": {},
   "outputs": [],
   "source": [
    "# 선생님 답\n",
    "colors = ['red', 'green', 'blue', 'white', 'black', 'gold']\n",
    "\n",
    "# A1\n",
    "delete_index = [0, 4, 5]\n",
    "remain_colors = []\n",
    "\n",
    "# for i in range(0, len(colors)) -> enumerate로 바꿀 수 있다\n",
    "    \n",
    "for index, color in enumerate(colors):\n",
    "    if index not in delete_index:\n",
    "        remain_colors.append(color)\n",
    "print(remain_colors)\n",
    "\n",
    "# A2\n",
    "remain_colors = []\n",
    "for color in colors:\n",
    "    if colors.index(color) not in (0, 4, 5):\n",
    "        remain_colors.append(color)\n",
    "        \n",
    "print(remain_colors)\n",
    "\n",
    "# A3\n",
    "remain_colors = []\n",
    "for color in colors:\n",
    "    if color not in colors[0] and not in colors[4] and not in colors[5]:\n",
    "        remain_colors.append(color)\n",
    "\n",
    "print(remain_colors)"
   ]
  },
  {
   "cell_type": "markdown",
   "metadata": {},
   "source": [
    "### 달력 출력하기\n",
    "> 1월부터 12월까지 다음과 같은 형태로 달력이 출력되어야 합니다.\n",
    "```\n",
    "1 월\n",
    "일 월 화 수 목 금 토 (1 space)\n",
    "1  2  3  4  5  6  7  (2 space)\n",
    "8  9  10  11  12  13  14\n",
    "15  16  17  18  19  20  21\n",
    "22  23  24  25  26  27  28\n",
    "29  30  31\n",
    "```\n",
    "\n",
    "2월은 1월과 날짜가 다름\n",
    "1일이 시작하는 위치가 월마다 다름"
   ]
  },
  {
   "cell_type": "code",
   "execution_count": null,
   "metadata": {},
   "outputs": [],
   "source": [
    "month = input('월을 입력해 주세요: e.g. 3월일 경우 \\'3\\'')\n",
    "\n",
    "# 월\n",
    "print(month, '월')\n",
    "\n",
    "# day\n",
    "print('일|', '월|', '화|', '수|', '목|', '금|', '토')\n",
    "print('-------------------------------')\n",
    "# 일\n",
    "for i in range(1, 32):\n",
    "    if i < 10:\n",
    "        print(i, end='   ')\n",
    "        if i % 7 == 0:\n",
    "            print('\\n')\n",
    "    else:\n",
    "        print(i, end='  ')\n",
    "        if i % 7 == 0:\n",
    "            print('\\n')\n",
    "\n"
   ]
  },
  {
   "cell_type": "code",
   "execution_count": 1,
   "metadata": {},
   "outputs": [
    {
     "name": "stdout",
     "output_type": "stream",
     "text": [
      "1월\n",
      "----------------------------\n",
      "일| 월| 화| 수| 목| 금| 토 \n",
      "1   2   3   4   5   6   7   \n",
      "8   9   10  11  12  13  14  \n",
      "15  16  17  18  19  20  21  \n",
      "22  23  24  25  26  27  28  \n",
      "29  30  31  \n",
      "\n",
      "2월\n",
      "----------------------------\n",
      "일| 월| 화| 수| 목| 금| 토 \n",
      "1   2   3   4   5   6   7   \n",
      "8   9   10  11  12  13  14  \n",
      "15  16  17  18  19  20  21  \n",
      "22  23  24  25  26  27  28  \n",
      "\n",
      "\n",
      "3월\n",
      "----------------------------\n",
      "일| 월| 화| 수| 목| 금| 토 \n",
      "1   2   3   4   5   6   7   \n",
      "8   9   10  11  12  13  14  \n",
      "15  16  17  18  19  20  21  \n",
      "22  23  24  25  26  27  28  \n",
      "29  30  31  \n",
      "\n",
      "4월\n",
      "----------------------------\n",
      "일| 월| 화| 수| 목| 금| 토 \n",
      "1   2   3   4   5   6   7   \n",
      "8   9   10  11  12  13  14  \n",
      "15  16  17  18  19  20  21  \n",
      "22  23  24  25  26  27  28  \n",
      "29  30  \n",
      "\n",
      "5월\n",
      "----------------------------\n",
      "일| 월| 화| 수| 목| 금| 토 \n",
      "1   2   3   4   5   6   7   \n",
      "8   9   10  11  12  13  14  \n",
      "15  16  17  18  19  20  21  \n",
      "22  23  24  25  26  27  28  \n",
      "29  30  31  \n",
      "\n",
      "6월\n",
      "----------------------------\n",
      "일| 월| 화| 수| 목| 금| 토 \n",
      "1   2   3   4   5   6   7   \n",
      "8   9   10  11  12  13  14  \n",
      "15  16  17  18  19  20  21  \n",
      "22  23  24  25  26  27  28  \n",
      "29  30  \n",
      "\n",
      "7월\n",
      "----------------------------\n",
      "일| 월| 화| 수| 목| 금| 토 \n",
      "1   2   3   4   5   6   7   \n",
      "8   9   10  11  12  13  14  \n",
      "15  16  17  18  19  20  21  \n",
      "22  23  24  25  26  27  28  \n",
      "29  30  31  \n",
      "\n",
      "8월\n",
      "----------------------------\n",
      "일| 월| 화| 수| 목| 금| 토 \n",
      "1   2   3   4   5   6   7   \n",
      "8   9   10  11  12  13  14  \n",
      "15  16  17  18  19  20  21  \n",
      "22  23  24  25  26  27  28  \n",
      "29  30  31  \n",
      "\n",
      "9월\n",
      "----------------------------\n",
      "일| 월| 화| 수| 목| 금| 토 \n",
      "1   2   3   4   5   6   7   \n",
      "8   9   10  11  12  13  14  \n",
      "15  16  17  18  19  20  21  \n",
      "22  23  24  25  26  27  28  \n",
      "29  30  \n",
      "\n",
      "10월\n",
      "----------------------------\n",
      "일| 월| 화| 수| 목| 금| 토 \n",
      "1   2   3   4   5   6   7   \n",
      "8   9   10  11  12  13  14  \n",
      "15  16  17  18  19  20  21  \n",
      "22  23  24  25  26  27  28  \n",
      "29  30  31  \n",
      "\n",
      "11월\n",
      "----------------------------\n",
      "일| 월| 화| 수| 목| 금| 토 \n",
      "1   2   3   4   5   6   7   \n",
      "8   9   10  11  12  13  14  \n",
      "15  16  17  18  19  20  21  \n",
      "22  23  24  25  26  27  28  \n",
      "29  30  \n",
      "\n",
      "12월\n",
      "----------------------------\n",
      "일| 월| 화| 수| 목| 금| 토 \n",
      "1   2   3   4   5   6   7   \n",
      "8   9   10  11  12  13  14  \n",
      "15  16  17  18  19  20  21  \n",
      "22  23  24  25  26  27  28  \n",
      "29  30  31  \n",
      "\n"
     ]
    }
   ],
   "source": [
    "def my_calendar():\n",
    "    Month = ['1월', '2월', '3월', '4월', '5월', '6월', '7월', '8월', '9월', '10월', '11월', '12월']\n",
    "    Date = ['일|', '월|', '화|', '수|', '목|', '금|', '토']\n",
    "    Day = {\n",
    "    '1월': list(range(1, 32)),\n",
    "    '2월': list(range(1, 29)),\n",
    "    '3월': list(range(1, 32)),\n",
    "    '4월': list(range(1, 31)),\n",
    "    '5월': list(range(1, 32)),\n",
    "    '6월': list(range(1, 31)),\n",
    "    '7월': list(range(1, 32)),\n",
    "    '8월': list(range(1, 32)),\n",
    "    '9월': list(range(1, 31)),\n",
    "    '10월': list(range(1, 32)),\n",
    "    '11월': list(range(1, 31)),\n",
    "    '12월': list(range(1, 32)),\n",
    "    }\n",
    "    for i in range(12):\n",
    "        print(Month[i])\n",
    "        print('----' * len(Date))\n",
    "        for j in range(7):\n",
    "            print(Date[j], end=' ')\n",
    "        print()\n",
    "        for k in Day[Month[i]]:\n",
    "            print(k, end='   ') if k < 10 else print(k, end='  ')\n",
    "            if k % 7 == 0:\n",
    "                print()\n",
    "        print('\\n')\n",
    "\n",
    "my_calendar()"
   ]
  },
  {
   "cell_type": "code",
   "execution_count": null,
   "metadata": {},
   "outputs": [],
   "source": [
    "# 줄 내림\n",
    "if len(이번달 리스트) < 42:\n",
    "    if len(전달 리스트) % 7 > 0:\n",
    "        new_line = len(전달 리스트) % 7\n",
    "        line_list = (이번달 리스트).append(' ' * line_space)"
   ]
  },
  {
   "cell_type": "code",
   "execution_count": 9,
   "metadata": {},
   "outputs": [
    {
     "name": "stdout",
     "output_type": "stream",
     "text": [
      "1월\n",
      "----------------------------\n",
      "일| 월| 화| 수| 목| 금| 토 \n",
      "1   2   3   4   5   6   \n",
      "7   8   9   10  11  12  \n",
      "13  14  15  16  17  18  \n",
      "19  20  21  22  23  24  \n",
      "25  26  27  28  29  30  \n",
      "31  \n",
      "\n",
      "2월\n",
      "----------------------------\n",
      "일| 월| 화| 수| 목| 금| 토 \n",
      "1   2   3   4   5   6   \n",
      "7   8   9   10  11  12  \n",
      "13  14  15  16  17  18  \n",
      "19  20  21  22  23  24  \n",
      "25  26  27  28  \n",
      "\n",
      "3월\n",
      "----------------------------\n",
      "일| 월| 화| 수| 목| 금| 토 \n",
      "1   2   3   4   5   6   \n",
      "7   8   9   10  11  12  \n",
      "13  14  15  16  17  18  \n",
      "19  20  21  22  23  24  \n",
      "25  26  27  28  29  30  \n",
      "31  \n",
      "\n",
      "4월\n",
      "----------------------------\n",
      "일| 월| 화| 수| 목| 금| 토 \n",
      "1   2   3   4   5   6   \n",
      "7   8   9   10  11  12  \n",
      "13  14  15  16  17  18  \n",
      "19  20  21  22  23  24  \n",
      "25  26  27  28  29  30  \n",
      "\n",
      "\n",
      "5월\n",
      "----------------------------\n",
      "일| 월| 화| 수| 목| 금| 토 \n",
      "1   2   3   4   5   6   \n",
      "7   8   9   10  11  12  \n",
      "13  14  15  16  17  18  \n",
      "19  20  21  22  23  24  \n",
      "25  26  27  28  29  30  \n",
      "31  \n",
      "\n",
      "6월\n",
      "----------------------------\n",
      "일| 월| 화| 수| 목| 금| 토 \n",
      "1   2   3   4   5   6   \n",
      "7   8   9   10  11  12  \n",
      "13  14  15  16  17  18  \n",
      "19  20  21  22  23  24  \n",
      "25  26  27  28  29  30  \n",
      "\n",
      "\n",
      "7월\n",
      "----------------------------\n",
      "일| 월| 화| 수| 목| 금| 토 \n",
      "1   2   3   4   5   6   \n",
      "7   8   9   10  11  12  \n",
      "13  14  15  16  17  18  \n",
      "19  20  21  22  23  24  \n",
      "25  26  27  28  29  30  \n",
      "31  \n",
      "\n",
      "8월\n",
      "----------------------------\n",
      "일| 월| 화| 수| 목| 금| 토 \n",
      "1   2   3   4   5   6   \n",
      "7   8   9   10  11  12  \n",
      "13  14  15  16  17  18  \n",
      "19  20  21  22  23  24  \n",
      "25  26  27  28  29  30  \n",
      "31  \n",
      "\n",
      "9월\n",
      "----------------------------\n",
      "일| 월| 화| 수| 목| 금| 토 \n",
      "1   2   3   4   5   6   \n",
      "7   8   9   10  11  12  \n",
      "13  14  15  16  17  18  \n",
      "19  20  21  22  23  24  \n",
      "25  26  27  28  29  30  \n",
      "\n",
      "\n",
      "10월\n",
      "----------------------------\n",
      "일| 월| 화| 수| 목| 금| 토 \n",
      "1   2   3   4   5   6   \n",
      "7   8   9   10  11  12  \n",
      "13  14  15  16  17  18  \n",
      "19  20  21  22  23  24  \n",
      "25  26  27  28  29  30  \n",
      "31  \n",
      "\n",
      "11월\n",
      "----------------------------\n",
      "일| 월| 화| 수| 목| 금| 토 \n",
      "1   2   3   4   5   6   \n",
      "7   8   9   10  11  12  \n",
      "13  14  15  16  17  18  \n",
      "19  20  21  22  23  24  \n",
      "25  26  27  28  29  30  \n",
      "\n",
      "\n",
      "12월\n",
      "----------------------------\n",
      "일| 월| 화| 수| 목| 금| 토 \n",
      "1   2   3   4   5   6   \n",
      "7   8   9   10  11  12  \n",
      "13  14  15  16  17  18  \n",
      "19  20  21  22  23  24  \n",
      "25  26  27  28  29  30  \n",
      "31  \n",
      "\n"
     ]
    }
   ],
   "source": [
    "Month = ['1월', '2월', '3월', '4월', '5월', '6월', '7월', '8월', '9월', '10월', '11월', '12월']\n",
    "Date = ['일|', '월|', '화|', '수|', '목|', '금|', '토']\n",
    "Day = {\n",
    "    '1월': list(range(1, 32)),\n",
    "    '2월': list(range(1, 29)),\n",
    "    '3월': list(range(1, 32)),\n",
    "    '4월': list(range(1, 31)),\n",
    "    '5월': list(range(1, 32)),\n",
    "    '6월': list(range(1, 31)),\n",
    "    '7월': list(range(1, 32)),\n",
    "    '8월': list(range(1, 32)),\n",
    "    '9월': list(range(1, 31)),\n",
    "    '10월': list(range(1, 32)),\n",
    "    '11월': list(range(1, 31)),\n",
    "    '12월': list(range(1, 32)),\n",
    "}\n",
    "def my_calendar():\n",
    "    Month = ['1월', '2월', '3월', '4월', '5월', '6월', '7월', '8월', '9월', '10월', '11월', '12월']\n",
    "    Date = ['일|', '월|', '화|', '수|', '목|', '금|', '토']\n",
    "    Day = {\n",
    "    '1월': list(range(1, 32)), '2월': list(range(1, 29)), '3월': list(range(1, 32)),\n",
    "    '4월': list(range(1, 31)), '5월': list(range(1, 32)), '6월': list(range(1, 31)),\n",
    "    '7월': list(range(1, 32)), '8월': list(range(1, 32)), '9월': list(range(1, 31)),\n",
    "    '10월': list(range(1, 32)), '11월': list(range(1, 31)), '12월': list(range(1, 32)),\n",
    "    }\n",
    "    for i in range(12):\n",
    "        print(Month[i])\n",
    "        print('----' * len(Date))\n",
    "        if i >= 1:\n",
    "                if len(Day[Month[i]]) < 42:\n",
    "                    blank = [\"  \"] * (len(Day[Month[i-1]]) % 7)\n",
    "                    blank + Day[Month[i]]\n",
    "                else:\n",
    "                    Day[Month[i]].remove(\"  \")\n",
    "        for j in range(7):\n",
    "            print(Date[j], end=' ')\n",
    "        print()\n",
    "        for k in Day[Month[i]]:\n",
    "            print(k, end='   ') if k < 10 else print(k, end='  ')\n",
    "            if len(Day[Month[i]][0:k]) % 6 == 0:\n",
    "                print()\n",
    "        print('\\n')\n",
    "my_calendar()"
   ]
  },
  {
   "cell_type": "code",
   "execution_count": null,
   "metadata": {},
   "outputs": [],
   "source": [
    "llist = [                                 1, 2, 3, 4, 5, 6, 7, 8, 9, 10]\n",
    "\n",
    "blank = [\"  \"] * 3\n",
    "# new_lst = blank + llist\n",
    "print(blank, type(blank))\n",
    "new = blank + llist\n",
    "print(new)\n",
    "\n",
    "# 필요한 것 월마다 일수의 길이\n",
    "# 반복문 순서 2월 -> 3월 ->.....\n",
    "# 1월은 아무것도 안하면 되나\n",
    "\n",
    "if i >= 2:\n",
    "    if len(Day[Month[i]]) < 42:\n",
    "        blank = [\"  \"] * (len(Day[Month[i-1]]) % 7)\n",
    "        blank + Day[Month[i]]\n",
    "    else:\n",
    "        del(Day[Month[i]][0:count(\"  \")])\n",
    "else:\n",
    "    continue"
   ]
  },
  {
   "cell_type": "code",
   "execution_count": null,
   "metadata": {},
   "outputs": [],
   "source": [
    "# 선생님 풀이\n",
    "\n",
    "months_end = {\n",
    "    1: 31,\n",
    "    2: 28,\n",
    "    3: 31,\n",
    "    4: 30,\n",
    "    5: 31,\n",
    "    6: 30,\n",
    "    7: 31,\n",
    "    8: 31,\n",
    "    9: 31,\n",
    "    10: 31,\n",
    "    11: 30,\n",
    "    12: 31,\n",
    "}\n",
    "\n",
    "weeks = ['Sun', 'Mon', 'Tue', 'Wed', 'Thu', 'Fri', 'Sat']\n",
    "\n",
    "for month, end_date in months_end.items():\n",
    "    print(month, '월')\n",
    "    for yoil in weeks:\n",
    "        print(yoil, end='|')\n",
    "    print()\n",
    "    print('-' * 28)\n",
    "    \n",
    "    count = 0\n",
    "    for day in range(1, end_date + 1):\n",
    "        print(f' {day}|', end='') if day >= 10 else print(f'  {day}|', end='')\n",
    "        count += 1\n",
    "        if count == 7 and day != end_date:\n",
    "            print()\n",
    "            count = 0\n",
    "    print('\\n')"
   ]
  },
  {
   "cell_type": "code",
   "execution_count": null,
   "metadata": {},
   "outputs": [],
   "source": []
  }
 ],
 "metadata": {
  "celltoolbar": "Slideshow",
  "kernelspec": {
   "display_name": "Python 3",
   "language": "python",
   "name": "python3"
  },
  "language_info": {
   "codemirror_mode": {
    "name": "ipython",
    "version": 3
   },
   "file_extension": ".py",
   "mimetype": "text/x-python",
   "name": "python",
   "nbconvert_exporter": "python",
   "pygments_lexer": "ipython3",
   "version": "3.7.1"
  },
  "toc": {
   "base_numbering": 1,
   "nav_menu": {},
   "number_sections": true,
   "sideBar": true,
   "skip_h1_title": false,
   "title_cell": "Table of Contents",
   "title_sidebar": "Contents",
   "toc_cell": false,
   "toc_position": {},
   "toc_section_display": true,
   "toc_window_display": false
  }
 },
 "nbformat": 4,
 "nbformat_minor": 2
}
