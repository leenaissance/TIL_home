{
 "cells": [
  {
   "cell_type": "markdown",
   "metadata": {},
   "source": [
    "# Problem Set"
   ]
  },
  {
   "cell_type": "markdown",
   "metadata": {},
   "source": [
    "**190108**"
   ]
  },
  {
   "cell_type": "markdown",
   "metadata": {},
   "source": [
    "## 1. 이상한 덧셈\n",
    "> 숫자로 구성된 리스트에서 양의 정수의 합을 구하는 함수, `postive_sum`을 만들어 보아요\n",
    "\n",
    "예시)\n",
    "\n",
    "```python\n",
    "positive_sum([1, -10, 2]) # 3\n",
    "positive_sum([-1, -2, -3, -4]) # 0\n",
    "```\n",
    "\n"
   ]
  },
  {
   "cell_type": "code",
   "execution_count": null,
   "metadata": {
    "scrolled": false
   },
   "outputs": [],
   "source": [
    "def positive_sum(numbs):\n",
    "    total = 0\n",
    "    for i in numbs:\n",
    "        if i > 0:\n",
    "            total += i\n",
    "    return total\n",
    "    \n",
    "print(positive_sum([1, -10, 2]))\n",
    "print(positive_sum([-1, -2, -3, -4]))"
   ]
  },
  {
   "cell_type": "code",
   "execution_count": null,
   "metadata": {},
   "outputs": [],
   "source": [
    "# 선생님 풀이\n",
    "\n",
    "def positive_sum(numbers):\n",
    "    total = 0\n",
    "    for number in numbers:\n",
    "        if number > 0:\n",
    "            total += number\n",
    "    return total\n",
    "\n",
    "print(positive_sum([1, -10, 2])) # 3\n",
    "print(positive_sum([-1, -2, -3, -4])) # 0"
   ]
  },
  {
   "cell_type": "code",
   "execution_count": null,
   "metadata": {},
   "outputs": [],
   "source": [
    "# 제너레이터 쓰는 방법\n",
    "\n",
    "def pos_sum(numbers):\n",
    "    return sum(x for x in numbers if x > 0)\n",
    "\n",
    "print(positive_sum([1, -10, 2])) # 3\n",
    "print(positive_sum([-1, -2, -3, -4])) # 0"
   ]
  },
  {
   "cell_type": "markdown",
   "metadata": {},
   "source": [
    "### 2. 문자열 탐색\n",
    "> 문자열 요소로만 이루어진 리스트를 넣었을 때, 문자열의 길이가 2 이상이고 주어진 문자열의 첫 번째와 마지막 문자가 같은 문자열의 수를 세는 함수 `start_end` 를 작성하세요\n",
    "\n",
    "예시)\n",
    "```python\n",
    "start_end(['level', 'asdwe', 's', 'abadsfa', 'q1q']) #3\n",
    "```"
   ]
  },
  {
   "cell_type": "code",
   "execution_count": null,
   "metadata": {},
   "outputs": [],
   "source": [
    "def start_end(string):\n",
    "    cnt = 0\n",
    "    for each_char in string:\n",
    "        if len(each_char) >= 2 and each_char[0] == each_char[-1]:\n",
    "            cnt += 1\n",
    "    return cnt\n",
    "\n",
    "start_end(['level', 'asdwe', 's', 'abadsfa', 'q1q'])\n",
    "        \n",
    "        "
   ]
  },
  {
   "cell_type": "code",
   "execution_count": null,
   "metadata": {},
   "outputs": [],
   "source": [
    "# 선생님 풀이\n",
    "\n",
    "def start_end(words):\n",
    "    count = 0\n",
    "    for word in words:\n",
    "        if len(word) > 1 and word[0] == word[-1]: #스트링 인덱스 접근 가능함\n",
    "            count += 1\n",
    "    return count\n",
    "\n",
    "print(start_end(['level', 'asdwe', 's', 'abadsfa', 'q1q']))"
   ]
  },
  {
   "cell_type": "markdown",
   "metadata": {},
   "source": [
    "### 3. Collatz\n",
    "> collatz 추측: 어떤 자연수 n이던지, 다음과 같은 작업을 반복하면 1로 만들 수 있다.\n",
    "\n",
    "1. n이 짝수라면 2로 나눈다.\n",
    "2. n이 홀수라면 3을 곱하고 1을 더한다.\n",
    "3. 결과로 나온 수에 1 or 2 의 작업을 1이 될때까지 반복한다.\n",
    "\n",
    ">예를 들어 n이 6이면, 6 -> 3 -> 10 -> 5  -> 16 -> 8 -> 4 -> 2 -> 1\n",
    ">자연수 n이 들어왔을 때, 몇 번의 작업만에 1이 되는지를 `return` 하는 함수 `collatz()`를 완성하세요.\n",
    "\n",
    ">단 500번을 넘어가도 1이 되지 않는다면, -1을 `return`하세요.\n",
    "\n",
    "예시)\n",
    "```python\n",
    "collatz(6) # 8\n",
    "collatz(16) # 4\n",
    "collatz(626331) # -1\n",
    "```\n"
   ]
  },
  {
   "cell_type": "code",
   "execution_count": null,
   "metadata": {
    "scrolled": true
   },
   "outputs": [],
   "source": [
    "def collatz(n, cnt=0):\n",
    "    if n == 1:\n",
    "        return cnt\n",
    "    else:\n",
    "        n = n / 2 if n % 2 == 0 else (n * 3) + 1\n",
    "        cnt += 1\n",
    "        if cnt >= 500:\n",
    "            return -1\n",
    "        return collatz(n, cnt)\n",
    "    \n",
    "# 재귀함수는 다시 원래 함수로 돌아갈때마다 초기화 되면 안되는 변수(ex. count...)가 초기화 되는 문제가 있다.\n",
    "# 그런 변수는 아예 함수 인자에 기본값으로 넣어주면 해결할 수 있다...\n",
    "    \n",
    "print(collatz(6))\n",
    "print(collatz(16))\n",
    "print(collatz(626331))"
   ]
  },
  {
   "cell_type": "code",
   "execution_count": null,
   "metadata": {},
   "outputs": [],
   "source": [
    "# 선생님 풀이\n",
    "\"\"\"\n",
    "함수는 리턴문 만나는 순간 멈춘다\n",
    "While True: 해도 \n",
    "밑에 조건을 만족시키고 return 을 만나면 멈춘다\n",
    "\"\"\"\n",
    "def collatz(num):\n",
    "    for i in range(500):\n",
    "        if num % 2:\n",
    "            num = num * 3 + 1\n",
    "        else:\n",
    "            num = num / 2\n",
    "        if num == 1:\n",
    "            return i + 1\n",
    "    return -1\n",
    "\n",
    "print(collatz(6))\n",
    "print(collatz(16))\n",
    "print(collatz(626331))"
   ]
  },
  {
   "cell_type": "markdown",
   "metadata": {},
   "source": [
    "### 4. 솔로 천국\n",
    "> 리스트가 주어질 때, 리스트의 요소 `e`는 `range(0, 10)`에 포함하는 자연수이다. 리스트에서 연속적으로 나타나는 숫자는 하나만 남기고 전부 제거하여 `return`하는 함수 `lonely()`를 작성해 보세요. 이때! 제거된 후 남은 수들을 반환할 때는 리스트의 요소들이 순서를 유지해야 합니다!\n",
    "\n",
    "예시)\n",
    "``` python\n",
    "lonely([1, 1, 3, 3, 0, 1, 1, 3, 0, 3]) # [1, 3, 0]\n",
    "lonely([4, 4, 3, 3, 3, 4]) # [4, 3]\n",
    "```"
   ]
  },
  {
   "cell_type": "code",
   "execution_count": null,
   "metadata": {},
   "outputs": [],
   "source": [
    "def lonely(numbers):\n",
    "    new_list = []\n",
    "    for number in numbers:\n",
    "        if number not in new_list:\n",
    "            new_list.append(number)\n",
    "        else:\n",
    "            continue\n",
    "        # else 구문은 빼도 상관 없음\n",
    "            \n",
    "    return new_list\n",
    "\n",
    "       \n",
    "print(lonely([1, 1, 3, 3, 0, 1, 1, 3, 0, 3])) # [1, 3, 0]\n",
    "print(lonely([4, 4, 3, 3, 3, 4])) # [4, 3]"
   ]
  },
  {
   "cell_type": "code",
   "execution_count": null,
   "metadata": {},
   "outputs": [],
   "source": [
    "# 선생님 풀이\n",
    "\n",
    "\"\"\"\n",
    "def lonely(numbers):\n",
    "    return list(set(numbers))\n",
    "\n",
    "print(lonely([1, 1, 3, 3, 0, 1, 1, 3, 0, 3])) # [1, 3, 0]\n",
    "print(lonely([4, 4, 3, 3, 3, 4])) # [4, 3]\n",
    "이 풀이는 원본의 순서를 바꾸기 때문에 안된다!\n",
    "\"\"\"\n",
    "\n",
    "def lonely(numbers):\n",
    "    result = []\n",
    "    for number in numbers:\n",
    "        if not result: #리스트가 비어있냐고 묻는 것\n",
    "            result.append(number)\n",
    "        elif result[-1] != number: #result 리스트의 마지막에 있는 숫자랑 비교해서 중복 방지\n",
    "            if result.count(number) == 0:\n",
    "                result.append(number)\n",
    "    return result\n",
    "            \n",
    "print(lonely([1, 1, 3, 3, 0, 1, 1, 3, 0, 3])) # [1, 3, 0]\n",
    "print(lonely([4, 4, 3, 3, 3, 4])) # [4, 3]"
   ]
  },
  {
   "cell_type": "code",
   "execution_count": null,
   "metadata": {},
   "outputs": [],
   "source": [
    "#선생님 풀이2 - 코드 정리\n",
    "\n",
    "def lonely(numbers):\n",
    "    result = []\n",
    "    for number in numbers:\n",
    "        if not result or (result[-1] != number) and (result.count(number) == 0):\n",
    "            result.append(number)\n",
    "    return result\n",
    "            \n",
    "print(lonely([1, 1, 3, 3, 0, 1, 1, 3, 0, 3])) # [1, 3, 0]\n",
    "print(lonely([4, 4, 3, 3, 3, 4])) # [4, 3]"
   ]
  },
  {
   "cell_type": "markdown",
   "metadata": {},
   "source": [
    "### 5.  RGB 삼각형\n",
    "\n",
    "| BG   | RG   | BR   | RR   | GG   | BB   |\n",
    "| ---- | ---- | ---- | ---- | ---- | ---- |\n",
    "| R    | B    | G    | R    | G    | B    |\n",
    "\n",
    ">입력으로 `'R', 'G', 'B'`가 섞여있는 문자열이 들어온다. 문자열은 다음과 같이 합쳐진다. 해당 문자열을 처리하여 마지막 색깔만 `return`하는 `triangle()`을 작성하세요.\n",
    "```\n",
    "R R G B R G B B\n",
    " R B R G B R B\n",
    "  G G B R G G\n",
    "   G R G B G\n",
    "    B B R R\n",
    "     B G R\n",
    "      R B\n",
    "       G\n",
    "```\n",
    "\n",
    "예시)\n",
    "\n",
    "```python\n",
    "triangle('RRGBRGBB')#G\n",
    "triangle('GB')#R\n",
    "triangle('B')#B\n",
    "triangle('RGBG')#R\n",
    "```"
   ]
  },
  {
   "cell_type": "code",
   "execution_count": null,
   "metadata": {},
   "outputs": [],
   "source": [
    "def triangle(color):\n",
    "    color_dict = {\n",
    "        'BG' : 'R', 'BR' : 'G', 'BB' : 'B',\n",
    "        'RG' : 'B', 'RB' : 'G', 'RR' : 'R',\n",
    "        'GG' : 'G', 'GR' : 'B', 'GB' : 'R',\n",
    "    }\n",
    "    if len(color) == 1:\n",
    "        return color\n",
    "    else:\n",
    "        color = color_dict[color[:2]] + color[2:]\n",
    "        return triangle(color)\n",
    "        \n",
    "print(triangle('RRGBRGBB'))#G\n",
    "print(triangle('GB'))#R\n",
    "print(triangle('B'))#B\n",
    "print(triangle('RGBG'))#R\n",
    "\n",
    "    "
   ]
  },
  {
   "cell_type": "code",
   "execution_count": null,
   "metadata": {},
   "outputs": [],
   "source": [
    "\"\"\"\n",
    "문자열 길이 >= 2\n",
    "문자열을 앞에서부터 2개씩 꺼낸다\n",
    "꺼낸걸 딕셔너리 키값에 집어넣고 밸류값으로 바꾼다\n",
    "위의 과정을 반복\n",
    "\n",
    "문자열 길이 <=1\n",
    "그대로 반환\n",
    "\"\"\""
   ]
  },
  {
   "cell_type": "markdown",
   "metadata": {},
   "source": [
    "### 6. (??) 홀수개를 찾아라\n",
    ">입력으로 list가 한 개 들어옵니다. 이 list 에는 1개의 숫자만 홀수 개 들어있습니다. 이 1개의 홀수개인 숫자를 `return`하는 `find_odd()`를 작성하세요\n",
    "\n",
    "예시)\n",
    "\n",
    "```python\n",
    "find_odd([1, 1, 2, 2, 3, 3, 3]) # 3\n",
    "find_odd([2, 1, 2]) # 1\n",
    "find_odd([1, 2, 2, 3, 2, 2, 1]) # 3\n",
    "```"
   ]
  },
  {
   "cell_type": "code",
   "execution_count": null,
   "metadata": {},
   "outputs": [],
   "source": [
    "def find_odd(num_list):\n",
    "    count = 0\n",
    "    for number in num_list:\n",
    "        for i in range(len(num_list)):\n",
    "            if number == num_list[i]:\n",
    "                count += 1\n",
    "                if count % 2 == 1:\n",
    "                    return number\n",
    "    \n",
    "print(find_odd([1, 1, 2, 2, 3, 3, 3])) # 3\n",
    "print(find_odd([2, 1, 2])) # 1\n",
    "print(find_odd([1, 2, 2, 3, 2, 2, 1])) # 3"
   ]
  },
  {
   "cell_type": "code",
   "execution_count": null,
   "metadata": {},
   "outputs": [],
   "source": [
    "# 인상깊은 코드 1\n",
    "def find_odd(numbers):\n",
    "    for uniq in list(set(numbers)): #중복 없어짐\n",
    "        if numbers.count(uniq) % 2:\n",
    "            return uniq\n",
    "        \n",
    "print(find_odd([1, 1, 2, 2, 3, 3, 3])) # 3\n",
    "print(find_odd([2, 1, 2])) # 1\n",
    "print(find_odd([1, 2, 2, 3, 2, 2, 1])) # 3"
   ]
  },
  {
   "cell_type": "code",
   "execution_count": null,
   "metadata": {},
   "outputs": [],
   "source": [
    "# 답 코드 2\n",
    "\n",
    "def find_odd2(numbers):\n",
    "    numbers.sort()\n",
    "    # [1, 1, 2, 2, 3, 3, 3, 4, 4] => 2개씩 페어링 => 홀수개인 숫자때문에 달라지는 순간이 옴"
   ]
  },
  {
   "cell_type": "code",
   "execution_count": null,
   "metadata": {},
   "outputs": [],
   "source": [
    "# xor 연산 사용\n",
    "\n",
    "from operator import xor\n",
    "\n",
    "def find_odd3(numbers):\n",
    "    result = 0\n",
    "    for n in numbers:\n",
    "        result = result ^ n\n",
    "    return result\n",
    "    \n",
    "print(find_odd3([1, 1, 2, 2, 3, 3, 3])) # 3\n",
    "print(find_odd3([2, 1, 2])) # 1\n",
    "print(find_odd3([1, 2, 2, 3, 2, 2, 1])) # 3"
   ]
  },
  {
   "cell_type": "markdown",
   "metadata": {},
   "source": [
    "**190109**"
   ]
  },
  {
   "cell_type": "markdown",
   "metadata": {},
   "source": [
    "### 1. Up and Down\n",
    "> 우리가 `range(1, 101)` 중 하나를 생각한다. 컴퓨터가 절반에 위치한 숫자를 물어보고, 생각한 수보다 크면 1, 작으면 -1, 맞으면 0을 입력한다.  이 때 몇 번만에 컴퓨터가 우리가 생각한 수를 구하는지 출력하기.\n",
    "\n",
    "예시)\n",
    "```sh\n",
    "숫자를 생각하세요..\n",
    "50\n",
    "> -1\n",
    "25\n",
    "> -1\n",
    "13\n",
    "> -1\n",
    "7\n",
    "> 1\n",
    "10\n",
    "> 1\n",
    "12\n",
    "> 0\n",
    "6 번만에 맞췄습니다.\n",
    "```\n",
    "```python\n",
    "def guess_up_down(??, ??, ??):\n",
    "    print('숫자를 생각하세요..')\n",
    "    n = 100 // 2 \n",
    "    print(n)\n",
    "    count += 1\n",
    "    user_feedback = input('작으면 -1, 맞으면 0, 크면 1')\n",
    "    if user_feedback == -1\n",
    "    elif user_feedback == 1\n",
    "    else\n",
    "    ...\n",
    "    print(f'{count} 번 만에 맞춤!')\n",
    "    \n",
    "guess_up_down(??, ??, ??)\n",
    "```"
   ]
  },
  {
   "cell_type": "code",
   "execution_count": null,
   "metadata": {
    "scrolled": true
   },
   "outputs": [],
   "source": [
    "# 나의 1번 방법 - 재귀 사용\n",
    "def guess_up_down(cnt=0, n=100//2):\n",
    "    print('당신이 생각하는 숫자를 맞춰드립니다...')\n",
    "    print(n)\n",
    "    cnt += 1\n",
    "    user_feedback = int(input('작으면 -1, 맞으면 0, 크면 1 입력'))\n",
    "    if user_feedback == -1:\n",
    "        n = (0 + n) // 2\n",
    "        return guess_up_down(cnt, n)\n",
    "    elif user_feedback == 1:\n",
    "        n = (100 + n) // 2\n",
    "        return guess_up_down(cnt, n)\n",
    "    else:\n",
    "        return (f'{cnt} 번 만에 맞춤!')\n",
    "    \n",
    "    \n",
    "guess_up_down()"
   ]
  },
  {
   "cell_type": "code",
   "execution_count": null,
   "metadata": {},
   "outputs": [],
   "source": [
    "# 큰지 작은지 입력받은 후 ->\n",
    "# -1이면 : 출력한  n보다 큰 수가 나오면 안됨\n",
    "# 1이면 : 출력한 n보다 작은 수가 나오면 안됨"
   ]
  },
  {
   "cell_type": "code",
   "execution_count": null,
   "metadata": {},
   "outputs": [],
   "source": [
    "# 나의 2번 방법 - 반복문 사용\n",
    "def guess_up_down():\n",
    "    print('숫자를 하나 생각해 주세요...')\n",
    "    n = 100 // 2\n",
    "    print(n)\n",
    "    ask = int(input('작으면 -1, 맞으면 0, 크면 1 입력'))\n",
    "    count = 1\n",
    "    while ask != 0:\n",
    "        if ask == -1:\n",
    "            n = (1 + n) // 2\n",
    "            count += 1\n",
    "            print(n)\n",
    "            ask = int(input('작으면 -1, 맞으면 0, 크면 1 입력'))\n",
    "            \n",
    "        elif ask == 1:\n",
    "            n = (49 + n) // 2\n",
    "            count += 1\n",
    "            print(n)\n",
    "            ask = int(input('작으면 -1, 맞으면 0, 크면 1 입력'))\n",
    "    return (f'{count}번 만에 맞춤!')\n",
    "        \n",
    "        \n",
    "        \n",
    "guess_up_down()"
   ]
  },
  {
   "cell_type": "code",
   "execution_count": null,
   "metadata": {},
   "outputs": [],
   "source": [
    "# 선생님 힌트\n",
    "minimum = 0\n",
    "maximum = 100\n",
    "(minimum + maximum) //2 == 50\n",
    "down\n",
    "\n",
    "mini = 0\n",
    "maxi = 50\n",
    "up\n",
    "(mini + maxi) // 2\n",
    "\n",
    "minimum = 25\n",
    "mzxi = 50\n",
    "(mini + maxi) // 2\n",
    "down\n",
    "\n",
    "mini = 25\n",
    "maxi = 37\n",
    "(mini + maxi) // 2\n"
   ]
  },
  {
   "cell_type": "code",
   "execution_count": null,
   "metadata": {},
   "outputs": [],
   "source": [
    "# 선생님 힌트 듣고 다시 풀기\n",
    "\n",
    "def guess_up_down(mini=0, maxi=100, cnt=0):\n",
    "    print('당신이 생각하는 숫자를 맞춰드립니다...')\n",
    "    n = (mini + maxi) // 2\n",
    "    print(n)\n",
    "    cnt += 1\n",
    "    user_feedback = int(input('작으면 -1, 맞으면 0, 크면 1 입력'))\n",
    "    if user_feedback == -1:\n",
    "        maxi = n\n",
    "        n = ((mini + maxi) // 2)\n",
    "        return guess_up_down(cnt, mini, maxi)\n",
    "    elif user_feedback == 1:\n",
    "        mini = n\n",
    "        n = ((mini + maxi) // 2)\n",
    "        return guess_up_down(cnt, mini, maxi)\n",
    "    else:\n",
    "        return (f'{cnt} 번 만에 맞춤!')\n",
    "    \n",
    "    \n",
    "guess_up_down()"
   ]
  },
  {
   "cell_type": "code",
   "execution_count": null,
   "metadata": {},
   "outputs": [],
   "source": [
    "# 선생님 풀이\n",
    "\n",
    "def guess_up_down():\n",
    "    cnt = 0\n",
    "    max_n, min_n = 101, 0\n",
    "    print('숫자를 생각하세요....')\n",
    "    \n",
    "    while 1:\n",
    "        guess = (max_n + min_n) // 2\n",
    "        print(guess)\n",
    "        cnt += 1\n",
    "        feedback = int(input('작으면 -1, 크면 1, 맞으면 0 입력: '))\n",
    "        if feedback == -1:\n",
    "            max_n = guess\n",
    "        elif feedback == 1:\n",
    "            min_n = guess\n",
    "        else:\n",
    "            return f'{cnt} 번만에 맞춤'\n",
    "        \n",
    "guess_up_down()\n",
    "        \n",
    "    "
   ]
  },
  {
   "cell_type": "code",
   "execution_count": null,
   "metadata": {},
   "outputs": [],
   "source": [
    "# 선생님 풀이 2\n",
    "\n",
    "def guess_up_down(max_n):\n",
    "    cnt = 0\n",
    "    min_n = 0\n",
    "    print('숫자를 생각하세요....')\n",
    "    \n",
    "    while 1:\n",
    "        guess = (max_n + min_n) // 2\n",
    "        print(guess)\n",
    "        cnt += 1\n",
    "        feedback = int(input('작으면 -1, 크면 1, 맞으면 0 입력: '))\n",
    "        if feedback == -1:\n",
    "            max_n = guess\n",
    "        elif feedback == 1:\n",
    "            min_n = guess\n",
    "        else:\n",
    "            return f'{cnt} 번만에 맞춤'\n",
    "        \n",
    "guess_up_down()"
   ]
  },
  {
   "cell_type": "markdown",
   "metadata": {},
   "source": [
    "### Problem_Daliy workshop_190109\n",
    "> 양의 정수 x를 입력 받아 제곱근의 근사값의 결과를 반환하는 함수를 작성 <br>\n",
    "> sqrt()사용 금지\n",
    "\n",
    "> 소수점 4번째 자리에서 값을 반환했을 때 부등호의 앞, 뒤가 같은 값이면 반환하는 것으로 한다."
   ]
  },
  {
   "cell_type": "code",
   "execution_count": null,
   "metadata": {},
   "outputs": [],
   "source": [
    "#선생님 힌트\n",
    "\n",
    "n = 2\n",
    "# guess = ?\n",
    "min_n = 1\n",
    "max_n = 2\n",
    "-------------------\n",
    "min_n ** 2 <n < max_n ** 2\n",
    "1 < n < 2\n",
    "guess = (min_n + max_n) / 2 # 1.5\n",
    "----------------------\n",
    "n > guess ** 2 # 2.25\n",
    "n < guess ** 2  \n",
    "-----------------------\n",
    "max_n = guess # 2.25\n",
    "\n",
    "min_n **2 < n < max_n ** n\n",
    "1< n < 2.25\n",
    "------------------------------\n",
    "guess = 1 + 1.5 /2 #1.25\n",
    "\n",
    "n > guess ** 2 # 1.25\n",
    "n < guess ** 2\n",
    "\n",
    "min_n = guess\n",
    "---------------------\n",
    "..\n",
    "round(min_n, 4) == round(max_n, 4)\n"
   ]
  },
  {
   "cell_type": "markdown",
   "metadata": {},
   "source": [
    "#### 190110"
   ]
  },
  {
   "cell_type": "markdown",
   "metadata": {},
   "source": [
    "### Hangman"
   ]
  },
  {
   "cell_type": "markdown",
   "metadata": {},
   "source": [
    "> 필요한 함수들!"
   ]
  },
  {
   "cell_type": "code",
   "execution_count": 1,
   "metadata": {},
   "outputs": [
    {
     "data": {
      "text/plain": [
       "True"
      ]
     },
     "execution_count": 1,
     "metadata": {},
     "output_type": "execute_result"
    }
   ],
   "source": [
    "# 다 맞으면 True\n",
    "\n",
    "def is_answer(answer, letters):\n",
    "    answer = set(answer)\n",
    "    count = 0\n",
    "    for char in set(letters):\n",
    "        if char in answer:\n",
    "            count += 1\n",
    "    return len(answer) == count # 맞으면 True, 틀리면 False\n",
    "    \n",
    "is_answer('apple', ['a', 'p', 'p', 'l', 'e'])\n",
    "        "
   ]
  },
  {
   "cell_type": "code",
   "execution_count": 2,
   "metadata": {},
   "outputs": [
    {
     "data": {
      "text/plain": [
       "'*****'"
      ]
     },
     "execution_count": 2,
     "metadata": {},
     "output_type": "execute_result"
    }
   ],
   "source": [
    "# 맞힌 단어 표시\n",
    "\n",
    "def status(answer, letters):\n",
    "    for char in answer:\n",
    "        if char not in letters:\n",
    "            answer = answer.replace(char, '*')\n",
    "            \n",
    "    return answer\n",
    "\n",
    "status('apple', [])"
   ]
  },
  {
   "cell_type": "markdown",
   "metadata": {},
   "source": [
    "#### Hangman 로직 만들기"
   ]
  },
  {
   "cell_type": "code",
   "execution_count": null,
   "metadata": {},
   "outputs": [],
   "source": [
    "\"\"\"\n",
    "# -*-coding: utf8-*-\n",
    "def hangman(answer):\n",
    "    input_letters = []\n",
    "    attempt = 8\n",
    "    print('===START===')\n",
    "\n",
    "    while 1:\n",
    "        print(\"남은 목숨: \" + '♥' * attempt)\n",
    "        print(status(answer, input_letters))\n",
    "        \n",
    "        guess = input('알파벳을 입력하세요: ').lower()\n",
    "        input_letters.append(guess)\n",
    "        \n",
    "        # some code\n",
    "        \n",
    "        if is_answer(answer, input_letters):\n",
    "            return '성공!'\n",
    "        else:\n",
    "            attempt -=1\n",
    "            \n",
    "        if not attempt:\n",
    "            return '실패!'\n",
    "        \n",
    "hangman('apple')\n",
    "\"\"\""
   ]
  },
  {
   "cell_type": "code",
   "execution_count": null,
   "metadata": {},
   "outputs": [],
   "source": []
  },
  {
   "cell_type": "code",
   "execution_count": 3,
   "metadata": {
    "scrolled": true
   },
   "outputs": [
    {
     "name": "stdout",
     "output_type": "stream",
     "text": [
      "===과일 이름 맞추기 START!===\n",
      "[남은 목숨: ♥♥♥♥♥♥♥]\n",
      "***\n",
      "알파벳을 입력하세요: ㄷ\n",
      "@\n",
      "[남은 목숨: ♥♥♥♥♥♥]\n",
      "***\n",
      "알파벳을 입력하세요: e\n",
      "@-\n",
      "[남은 목숨: ♥♥♥♥♥]\n",
      "***\n",
      "알파벳을 입력하세요: ㅛ\n",
      "@->\n",
      "[남은 목숨: ♥♥♥♥]\n",
      "***\n",
      "알파벳을 입력하세요: y\n",
      "@->-\n",
      "[남은 목숨: ♥♥♥]\n",
      "***\n",
      "알파벳을 입력하세요: p\n",
      "@->->\n",
      "[남은 목숨: ♥♥]\n",
      "***\n",
      "알파벳을 입력하세요: c\n",
      "@->->-\n",
      "[남은 목숨: ♥]\n",
      "***\n",
      "알파벳을 입력하세요: a\n",
      "@->->--\n"
     ]
    },
    {
     "data": {
      "text/plain": [
       "'정답은, fig... 실패한 당신께...장미 한 송이...놓고 갑니다...총총..'"
      ]
     },
     "execution_count": 3,
     "metadata": {},
     "output_type": "execute_result"
    }
   ],
   "source": [
    "# -*-coding: utf8-*-\n",
    "def hangman():\n",
    "    import random\n",
    "    fruits = ['apricot', 'blueberry', 'cherry', 'mango', 'peach', 'plum', 'raspberry', 'nectarine', 'lime', 'grapefruit', 'fig', 'clementine','banana', 'apple', 'grape', 'lemon', 'pear', 'orange', 'strawberry', 'melon', 'watermelon', 'pineapple', 'kiwi']\n",
    "    answer = random.choice(fruits)\n",
    "    input_letters = []\n",
    "    attempt = 7\n",
    "    wrong_cnt = 0\n",
    "    hang_man = ['@', '-', '>', '-', '>', '-', '-']\n",
    "    print('===과일 이름 맞추기 START!===')\n",
    "\n",
    "    while 1:\n",
    "        print(\"[남은 목숨: \" + '♥' * attempt + \"]\")\n",
    "        print(status(answer, input_letters))\n",
    "        \n",
    "        guess = input('알파벳을 입력하세요: ').lower()\n",
    "        input_letters.append(guess)\n",
    "   \n",
    "        if is_answer(answer, input_letters):\n",
    "            return f'정답: {answer}..! 성공!'\n",
    "    \n",
    "        if guess not in answer:\n",
    "            attempt -= 1\n",
    "            wrong_cnt += 1\n",
    "            print(''.join(hang_man[:wrong_cnt]))\n",
    "            \n",
    "        if not attempt:\n",
    "            return f'정답은, {answer}... 실패한 당신께...장미 한 송이...놓고 갑니다...총총..'\n",
    "        \n",
    "hangman()"
   ]
  },
  {
   "cell_type": "code",
   "execution_count": null,
   "metadata": {},
   "outputs": [],
   "source": []
  }
 ],
 "metadata": {
  "kernelspec": {
   "display_name": "Python 3",
   "language": "python",
   "name": "python3"
  },
  "language_info": {
   "codemirror_mode": {
    "name": "ipython",
    "version": 3
   },
   "file_extension": ".py",
   "mimetype": "text/x-python",
   "name": "python",
   "nbconvert_exporter": "python",
   "pygments_lexer": "ipython3",
   "version": "3.7.1"
  }
 },
 "nbformat": 4,
 "nbformat_minor": 2
}
