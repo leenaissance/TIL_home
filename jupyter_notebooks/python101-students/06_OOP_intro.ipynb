{
 "cells": [
  {
   "cell_type": "markdown",
   "metadata": {},
   "source": [
    "# 시작하기전에\n",
    "\n",
    "<wikipedia - 객체지향 프로그래밍> \n",
    ">\n",
    "> 객체 지향 프로그래밍(영어: Object-Oriented Programming, OOP)은 컴퓨터 프 로그래밍의 패러다임의 하나이다. 객체 지향 프로그래밍은 컴퓨터 프로그램을 명령어의 목록으로 보는 시각에서 벗어나 여러 개의 독립된 단위, 즉 \"객체\"들의 모임으로 파악하고자 하는 것이다. 각각의 객체는 메시지를 주고받고, 데이터를 처리할 수 있다.\n",
    ">\n",
    "> 명령형 프로그래밍인 절차지향 프로그래밍에서 발전된 형태를 나타내며, 기본 구성요소는 다음과 같다.\n",
    "\n",
    "* 클래스(Class) - 같은 종류(또는 문제 해결을 위한)의 집단에 속하는 속성(attribute)과 행위(behavior)를 정의한 것으로 객체지향 프로그램의 기본적인 사용자 정의 데이터형(user define data type)이라고 할 수 있다. 클래스는 프로그래머가 아니지만 해결해야 할 문제가 속하는 영역에 종사하는 사람이라면 사용할 수 있고, 다른 클래스 또는 외부 요소와 독립적으로 디자인하여야 한다.\n",
    "\n",
    "\n",
    "* 인스턴스 - 클래스의 인스턴스(실제로 메모리상에 할당된 것)이다. 객체는 자신 고유의 속성(attribute)을 가지며 클래스에서 정의한 행위(behavior)를 수행할 수 있다. 객체의 행위는 클래스에 정의된 행위에 대한 정의를 공유함으로써 메모리를 경제적으로 사용한다.\n",
    "\n",
    "\n",
    "* 메서드(Method) - 클래스로부터 생성된 객체를 사용하는 방법으로서 객체에 명령을 내리는 것이라 할 수 있다. 메서드는 한 객체의 속성을 조작하는 데 사용된다."
   ]
  },
  {
   "cell_type": "markdown",
   "metadata": {},
   "source": [
    "lsit|dict|int|set|str"
   ]
  },
  {
   "cell_type": "code",
   "execution_count": null,
   "metadata": {},
   "outputs": [],
   "source": [
    "# 복소수를 하나 만들어보고, 타입을 출력해봅시다.\n",
    "# 제곱했을 때 마이너스가 되는 것이 '허수'\n",
    "img_number = 3 + 4j\n",
    "print(type(img_number))\n",
    "\n",
    "\n",
    "print(img_number ** 2)"
   ]
  },
  {
   "cell_type": "code",
   "execution_count": null,
   "metadata": {},
   "outputs": [],
   "source": [
    "# 허수부랑 실수부를 함께 출력해봅시다.\n",
    "print(img_number.real) # . 뒤에 ()가 없다 \n",
    "print(img_number.imag)"
   ]
  },
  {
   "cell_type": "code",
   "execution_count": null,
   "metadata": {},
   "outputs": [],
   "source": [
    "# 리스트를 하나 만들고 정렬해봅시다.\n",
    "a = [3, 2, 1]\n",
    "a.sort()\n",
    "print(a)"
   ]
  },
  {
   "cell_type": "code",
   "execution_count": null,
   "metadata": {},
   "outputs": [],
   "source": [
    "# 리스트가 할 수 있는 것들을 알아봅시다.  == 리스트 class 의 object 들이 할 수 있는 것들을 알아봅시다.\n",
    "print(dir(list))"
   ]
  },
  {
   "cell_type": "markdown",
   "metadata": {},
   "source": [
    "## 실습 문제\n",
    "\n",
    "> 프로그래밍으로 나와 친구의 이름을 저장해보세요.\n",
    ">\n",
    "\n",
    "**각자의 명함과 지갑을 만들어봅시다.**\n",
    "\n",
    "* 내 생일, 전화번호, 이메일주소 정보를 담은 변수를 확인해봅시다.\n",
    "\n",
    "* 주머니(pocket)에는 돈(won)을 포함하여 현재 가지고 있는 것을 작성해보세요.\n",
    "\n",
    "* 나는 인사를 하면서 내 명함에 있는 정보 하나를 이야기합니다. `greeting` 함수를 만듭시다.\n",
    "\n",
    "* 나는 주머니에 원하는 것과 갯수를 지정하여 넣을 수 있습니다. \n",
    "\n",
    "  기존에 값이 있으면, 갯수를 추가하고 없으면 새로 만드는 `in_my_pocket` 함수를 만듭시다.\n",
    "  \n",
    "**친구의 정보와 지갑도 만들어봅시다.**"
   ]
  },
  {
   "cell_type": "code",
   "execution_count": null,
   "metadata": {},
   "outputs": [],
   "source": [
    "# 아래에 자유롭게 코드를 작성해보세요.\n",
    "my_info =  {\n",
    "    'name' : '이아름',\n",
    "    'phone number' : '01011112222', \n",
    "    'email address' : 'lar404@naver.com',\n",
    "} \n",
    "my_pocket = {\n",
    "    'money' : 500,\n",
    "    'pouch' : 5,\n",
    "    'cigar' : 0,\n",
    "}\n",
    "\n",
    "def greeting(info):\n",
    "    for key, value in my_info.items():\n",
    "        key = set([key])\n",
    "        print ( f'Hi, My {key} is {value} . ' )\n",
    "          \n",
    "greeting(my_info)\n",
    "          \n",
    "def in_my_pocket(pocket, stuff, count=0):\n",
    "    if my_pocket.get(stuff):\n",
    "        my_pocket[stuff] += count\n",
    "        return pocket\n",
    "    else:\n",
    "        my_pocket[stuff] = count\n",
    "        return pocket\n",
    "    if not my_pocket:\n",
    "        return pocket\n",
    "        \n",
    "print(in_my_pocket(my_pocket, 'cigar', 1))"
   ]
  },
  {
   "cell_type": "code",
   "execution_count": null,
   "metadata": {},
   "outputs": [],
   "source": [
    "# 동적인 정보를 담으려면 ...?\n",
    "\n",
    "my_info =  {\n",
    "    'name' : '이아름',\n",
    "    'phone number' : '01011112222', \n",
    "    'email address' : 'lar404@naver.com',\n",
    "}\n",
    "\n",
    "def arrive(mate):\n",
    "    if mate['name'] == '이아름':\n",
    "        print('화장실에 간다.')\n",
    "        print('출석을 찍는다.')\n",
    "        print('물을 뜬다.')\n",
    "        \n",
    "arrive('이아름')\n",
    "\n",
    "# 코드와 현실세계의 괴리 => 줄이기 위해 등장한 것이 OOP!"
   ]
  },
  {
   "cell_type": "code",
   "execution_count": null,
   "metadata": {},
   "outputs": [],
   "source": [
    "# 팀 사람들의 정보를 info 하나에 담기 \n",
    "\n",
    "mates = {\n",
    "    'lia' : {\n",
    "        'name' : '이아름',\n",
    "        'phone number' : '01011112222', \n",
    "        'email address' : 'lar404@naver.com',\n",
    "        'blood' : 'B',\n",
    "        'github' : 'liarum',\n",
    "        \n",
    "    },\n",
    "    'minchu' : {\n",
    "        'name' : '김민주',\n",
    "        'phone number' : '01033334444', \n",
    "        'email address' : 'yummychuit@naver.com',\n",
    "        'blood' : 'A',\n",
    "        'github' : 'yummychuit',\n",
    "    },\n",
    "    'jwkang' : {\n",
    "        'name' : '강진우',\n",
    "        'phone number' : '01055556666', \n",
    "        'email address' : 'jwkang@naver.com',\n",
    "        'blood' : 'B',\n",
    "        'github' : 'jwkang',\n",
    "    },\n",
    "}\n",
    "\n",
    "# mates에 속해있는 사람마다 행동이 각자 다르다면, 각자 행동을 반환하는 함수를 따로 만들어야 한다?\n",
    "# mates에 추가하려면?\n"
   ]
  },
  {
   "cell_type": "code",
   "execution_count": null,
   "metadata": {},
   "outputs": [],
   "source": [
    "class Mate:\n",
    "    def set_info(self, name, github, blood, arrive):\n",
    "        self.name = name\n",
    "        self.blood = blood\n",
    "        self.github = github\n",
    "        self.arrive = arrive\n",
    "        \n",
    "    def get_info(self):\n",
    "        print(self.name, self.blood, self.github)\n",
    "        \n",
    "    def dochak(self):\n",
    "        print(f'{self.name}은 도착하면 {self.arrive} 를 합니다.')\n",
    "        \n",
    "lia = Mate()\n",
    "lia.set_info('이아름', 'liarum', 'B', '화장실')\n",
    "lia.get_info()\n",
    "lia.dochak()"
   ]
  },
  {
   "cell_type": "code",
   "execution_count": 63,
   "metadata": {},
   "outputs": [
    {
     "name": "stdout",
     "output_type": "stream",
     "text": [
      "이아름 B liarum\n",
      "이아름은 도착하면 화장실 를 갑니다.\n",
      "안녕하세요! 제 이름은 이아름 입니다.\n",
      "제 github id 는 liarum 입니다.\n",
      "3 703\n",
      "지원 O geewon\n",
      "지원은 도착하면 물마심 를 갑니다.\n",
      "찬미 B chanmee\n",
      "찬미은 도착하면 미드 를 갑니다.\n",
      "상현 O jeeth\n",
      "상현은 도착하면 너구리 를 갑니다.\n"
     ]
    }
   ],
   "source": [
    "class Mate:\n",
    "    classroom = 703 # Mate 의 완전한 공통점\n",
    "    ban = 3\n",
    "    def __init__(self, name, github, blood, arrive):\n",
    "        self.name = name\n",
    "        self.blood = blood\n",
    "        self.github = github\n",
    "        self.arrive = arrive\n",
    "        \n",
    "    def get_info(self):\n",
    "        print(self.name, self.blood, self.github)\n",
    "        \n",
    "        \n",
    "    def intro(self):\n",
    "        print(f'안녕하세요! 제 이름은 {self.name} 입니다.')\n",
    "        print(f'제 github id 는 {self.github} 입니다.')\n",
    "    \n",
    "    \n",
    "    def dochak(self):\n",
    "        print(f'{self.name}은 도착하면 {self.arrive} 를 갑니다.')\n",
    "        \n",
    "lia = Mate('이아름', 'liarum', 'B', '화장실')\n",
    "lia.get_info()\n",
    "lia.dochak()\n",
    "lia.intro()\n",
    "print(lia.ban, lia.classroom)\n",
    "\n",
    "gee = Mate('지원', 'geewon', 'O', '물마심')\n",
    "gee.get_info()\n",
    "gee.dochak()\n",
    "\n",
    "chan = Mate('찬미', 'chanmee', 'B', '미드')\n",
    "chan.get_info()\n",
    "chan.dochak()\n",
    "\n",
    "hyun = Mate('상현', 'jeeth', 'O', '너구리')\n",
    "hyun.get_info()\n",
    "hyun.dochak()"
   ]
  },
  {
   "cell_type": "code",
   "execution_count": 7,
   "metadata": {
    "scrolled": true
   },
   "outputs": [
    {
     "name": "stdout",
     "output_type": "stream",
     "text": [
      "<__main__.Text object at 0x0000024D1B288A90>\n",
      "A santa at NASA\n",
      "True\n",
      "한글자만 넣어라2\n",
      "ㅋㅋㅋㅋㅋㅋㅋㅋ\n"
     ]
    },
    {
     "data": {
      "text/plain": [
       "False"
      ]
     },
     "execution_count": 7,
     "metadata": {},
     "output_type": "execute_result"
    }
   ],
   "source": [
    "class Text:\n",
    "    def __init__(self, content):\n",
    "        self.content = content\n",
    "\n",
    "    def is_palindrome(self):\n",
    "        txt = self.content.replace(' ', '').lower()\n",
    "        return txt == ''.join(reversed(txt))\n",
    "\n",
    "    def start_hangman(self):\n",
    "        guess = input('한글자만 넣어라')\n",
    "        if guess in self.content:\n",
    "            print('오 맞음!')\n",
    "            return True\n",
    "        else:\n",
    "            print('ㅋㅋㅋㅋㅋㅋㅋㅋ')\n",
    "            return False\n",
    "\n",
    "my_text = Text('A santa at NASA')\n",
    "\n",
    "print(my_text) # <__main__.Text object at 0x0000024D1B288320>\n",
    "print(my_text.content) # A santa at NASA\n",
    "# self = my_text  | content = 'A santa at NASA'\n",
    "\n",
    "\n",
    "print(my_text.is_palindrome())\n",
    "\n",
    "your_text = Text('apple')\n",
    "your_text.start_hangman()\n",
    "# == Text('apple').start_hangman()"
   ]
  },
  {
   "cell_type": "code",
   "execution_count": null,
   "metadata": {},
   "outputs": [],
   "source": []
  },
  {
   "cell_type": "code",
   "execution_count": null,
   "metadata": {},
   "outputs": [],
   "source": [
    "# in_my_pocket 함수를 통해 내 주머니에 내용을 추가해봅시다."
   ]
  },
  {
   "cell_type": "code",
   "execution_count": null,
   "metadata": {},
   "outputs": [],
   "source": [
    "# greeting 함수를 통해 인사를 해봅시다.\n",
    "#=> 안녕, kim이야. 01012345678"
   ]
  },
  {
   "cell_type": "markdown",
   "metadata": {},
   "source": [
    "# 클래스 및 인스턴스"
   ]
  },
  {
   "cell_type": "markdown",
   "metadata": {},
   "source": [
    "## 클래스 객체\n",
    "\n",
    "```python\n",
    "class ClassName:\n",
    "    \n",
    "```\n",
    "\n",
    "* 선언과 동시에 클래스 객체가 생성됨.\n",
    "\n",
    "* 또한, 선언된 공간은 지역 스코프로 사용된다.\n",
    "\n",
    "* 정의된 어트리뷰트 중 변수는 멤버 변수로 불리운다.\n",
    "\n",
    "* 정의된 함수(`def`)는 메서드로 불리운다."
   ]
  },
  {
   "cell_type": "code",
   "execution_count": 11,
   "metadata": {},
   "outputs": [
    {
     "name": "stdout",
     "output_type": "stream",
     "text": [
      "<class 'type'>\n",
      "<class '__main__.TestClass'>\n",
      "This is Test Class\n"
     ]
    }
   ],
   "source": [
    "# Class를 만들어봅시다.\n",
    "\n",
    "class TestClass:\n",
    "    \"\"\"This is Test Class\"\"\"\n",
    "    \n",
    "print(type(TestClass)) # <class 'type'>\n",
    "\n",
    "tc = TestClass()\n",
    "print(type(tc))  # <class '__main__.TestClass'>\n",
    "\n",
    "print(tc.__doc__)  # This is Test Class"
   ]
  },
  {
   "cell_type": "code",
   "execution_count": 36,
   "metadata": {},
   "outputs": [
    {
     "name": "stdout",
     "output_type": "stream",
     "text": [
      "HELLO WORLD!\n"
     ]
    }
   ],
   "source": [
    "# Person 클래스를 만들어봅시다.\n",
    "\n",
    "class Person:\n",
    "    name = '홍길동'\n",
    "    \n",
    "    def say_hi(self):\n",
    "        print('HELLO WORLD!')\n",
    "        \n",
    "    def intro(self):\n",
    "        print(f'I am {self.name} ')\n",
    "        \n",
    "P = Person()\n",
    "P.say_hi()"
   ]
  },
  {
   "cell_type": "markdown",
   "metadata": {},
   "source": [
    "* 선언시 self는 반드시 작성해주세요! 나중에 설명드립니다."
   ]
  },
  {
   "cell_type": "markdown",
   "metadata": {},
   "source": [
    "## 인스턴스 객체\n",
    "\n",
    "* 인스턴스 객체는 `ClassName()`을 호출함으로써 선언된다.\n",
    "\n",
    "* 인스턴스 객체와 클래스 객체는 서로 다른 이름 공간을 가지고 있다.\n",
    "\n",
    "* 인스턴스 -> 클래스 -> 전역 순으로 탐색을 한다."
   ]
  },
  {
   "cell_type": "code",
   "execution_count": 42,
   "metadata": {},
   "outputs": [],
   "source": [
    "# 클래스 Person의 iu라는 인스턴스를 만들어봅시다.\n",
    "\n",
    "iu = Person()"
   ]
  },
  {
   "cell_type": "code",
   "execution_count": 43,
   "metadata": {},
   "outputs": [
    {
     "name": "stdout",
     "output_type": "stream",
     "text": [
      "HELLO WORLD!\n"
     ]
    }
   ],
   "source": [
    "# 인사하는 메서드를 호출해봅시다.\n",
    "iu.say_hi()"
   ]
  },
  {
   "cell_type": "code",
   "execution_count": 44,
   "metadata": {},
   "outputs": [
    {
     "data": {
      "text/plain": [
       "'홍길동'"
      ]
     },
     "execution_count": 44,
     "metadata": {},
     "output_type": "execute_result"
    }
   ],
   "source": [
    "# iu의 이름을 확인해봅시다.\n",
    "iu.name"
   ]
  },
  {
   "cell_type": "code",
   "execution_count": 45,
   "metadata": {},
   "outputs": [
    {
     "name": "stdout",
     "output_type": "stream",
     "text": [
      "IU\n"
     ]
    }
   ],
   "source": [
    "# iu로 이름을 바꿔주세요.\n",
    "iu.name = 'IU'\n",
    "\n",
    "print(iu.name)"
   ]
  },
  {
   "cell_type": "code",
   "execution_count": 46,
   "metadata": {},
   "outputs": [
    {
     "name": "stdout",
     "output_type": "stream",
     "text": [
      "I am IU \n"
     ]
    }
   ],
   "source": [
    "# iu가 인사를 합니다.\n",
    "iu.intro()"
   ]
  },
  {
   "cell_type": "code",
   "execution_count": 50,
   "metadata": {},
   "outputs": [
    {
     "data": {
      "text/plain": [
       "True"
      ]
     },
     "execution_count": 50,
     "metadata": {},
     "output_type": "execute_result"
    }
   ],
   "source": [
    "# iu와 Person이 같은지 확인해보겠습니다.\n",
    "isinstance(iu, Person)\n",
    "\n",
    "isinstance(1, int)\n",
    "\n",
    "isinstance('a', str)\n",
    "\n",
    "isinstance([], list)\n",
    "\n",
    "# if isinstance(user_input, ???type???):  -> 으로 if 조건 분기할 때 쓸 수 있음"
   ]
  },
  {
   "cell_type": "code",
   "execution_count": 52,
   "metadata": {},
   "outputs": [
    {
     "data": {
      "text/plain": [
       "True"
      ]
     },
     "execution_count": 52,
     "metadata": {},
     "output_type": "execute_result"
    }
   ],
   "source": [
    "# iu와 Person이 같은지 확인해보겠습니다.\n",
    "type(iu) == Person\n",
    "\n",
    "type('a') == str"
   ]
  },
  {
   "cell_type": "code",
   "execution_count": 53,
   "metadata": {},
   "outputs": [
    {
     "name": "stdout",
     "output_type": "stream",
     "text": [
      "<__main__.Person object at 0x0000024D1B2888D0>\n"
     ]
    }
   ],
   "source": [
    "# iu를 출력해봅시다.\n",
    "print(iu)    # <__main__.Person object at 0x0000024D1B2888D0>\n"
   ]
  },
  {
   "cell_type": "code",
   "execution_count": 54,
   "metadata": {},
   "outputs": [
    {
     "data": {
      "text/plain": [
       "<__main__.Person at 0x24d1b2888d0>"
      ]
     },
     "execution_count": 54,
     "metadata": {},
     "output_type": "execute_result"
    }
   ],
   "source": [
    "# iu를 출력해봅시다 2.\n",
    "iu   # <__main__.Person at 0x24d1b2888d0>    -> iu라는 객체는 메모리상 어딘가에 고정돼 있다!!!"
   ]
  },
  {
   "cell_type": "code",
   "execution_count": 55,
   "metadata": {},
   "outputs": [
    {
     "data": {
      "text/plain": [
       "__main__.Person"
      ]
     },
     "execution_count": 55,
     "metadata": {},
     "output_type": "execute_result"
    }
   ],
   "source": [
    "# type을 확인해봅시다.\n",
    "type(iu)"
   ]
  },
  {
   "cell_type": "markdown",
   "metadata": {},
   "source": [
    "* 파이썬 출력의 비밀 : repr, str"
   ]
  },
  {
   "cell_type": "code",
   "execution_count": null,
   "metadata": {},
   "outputs": [],
   "source": []
  },
  {
   "cell_type": "code",
   "execution_count": 56,
   "metadata": {},
   "outputs": [],
   "source": [
    "# 강다니엘을 만들어봅시다.\n",
    "강다니엘 = Person()"
   ]
  },
  {
   "cell_type": "code",
   "execution_count": 62,
   "metadata": {},
   "outputs": [
    {
     "name": "stdout",
     "output_type": "stream",
     "text": [
      "Daniel\n"
     ]
    }
   ],
   "source": [
    "# 강다니엘을 출력해봅시다.\n",
    "강다니엘.name = 'Daniel'\n",
    "print(강다니엘.name)"
   ]
  },
  {
   "cell_type": "markdown",
   "metadata": {},
   "source": [
    "## 실습 문제 발전\n",
    "\n",
    "> 지금까지 배운 것을 통해서 Person 클래스를 만들고, 친구와 나를 표현해봅시다.\n",
    ">\n",
    "> 주머니와 정보를 가지고 있고 (멤버 변수)\n",
    "> \n",
    "> 인사(`greeting()`)와 주머니에 내용을 추가(`in_my_pocket()`)할 수 있습니다. (메서드)\n",
    ">\n",
    "> 추가적으로 `get_my_pocket()`으로 지갑에 담긴 정보를 가져와 봅시다.\n",
    ">\n",
    "> 그리고 사람을 출력하면, 지갑을 제외한 정보를 보여줘보세요. "
   ]
  },
  {
   "cell_type": "code",
   "execution_count": null,
   "metadata": {},
   "outputs": [],
   "source": [
    "# 아래에 코드를 작성해주세요.    "
   ]
  },
  {
   "cell_type": "markdown",
   "metadata": {},
   "source": [
    "## MyList만들기\n",
    "\n",
    "> 이제 배운 것을 활용하여 나만의 리스트 객체를 만들 수 있습니다. \n",
    ">\n",
    "> `class MyList:`\n",
    ">\n",
    "\n",
    "```\n",
    "* 변수\n",
    "data : 비어 있는 리스트\n",
    "\n",
    "* 메서드 \n",
    "append : 값을 받아 추가합니다.\n",
    "pop : 마지막에 있는 값을 없애고, 해당 값을 리턴합니다.\n",
    "reverse : 제자리에서 뒤집고 리턴 값은 없습니다.\n",
    "count(x) : x의 갯수를 반환합니다.\n",
    "clear : 값을 모두 삭제합니다.\n",
    "\n",
    "__repr__ : ex) '리스트 내용 1, 2, 3'\n",
    "```"
   ]
  },
  {
   "cell_type": "code",
   "execution_count": null,
   "metadata": {},
   "outputs": [],
   "source": [
    "# 아래에 코드를 작성해주세요."
   ]
  },
  {
   "cell_type": "markdown",
   "metadata": {},
   "source": [
    "## 자유롭게 만들어보기\n",
    "\n",
    "> 이 세상에 있는 무엇인가를 자유롭게 표현해주세요."
   ]
  },
  {
   "cell_type": "code",
   "execution_count": 66,
   "metadata": {},
   "outputs": [
    {
     "name": "stdout",
     "output_type": "stream",
     "text": [
      "80\n"
     ]
    }
   ],
   "source": [
    "# 아래에 코드를 작성해주세요.\n",
    "class Pokemon:\n",
    "    def __init__(self, name, level):\n",
    "        self.name = name\n",
    "        self.level = level\n",
    "        self.hp = level * 10\n",
    "        \n",
    "    def set_hp(self, point):  # 최대한 동사형으로 씀\n",
    "        self.hp += point\n",
    "        \n",
    "    def check_status(self):\n",
    "        if self.hp > 0:\n",
    "            return True\n",
    "        else:\n",
    "            return False\n",
    "\n",
    "    \n",
    "a = Pokemon('피카츄1', 10) # (이름, 레벨)\n",
    "b = Pokemon('피카츄2', 9)\n",
    "\n",
    "# 다른 포켓몬일 경우, 공격 스킬과 특징 달라짐 ---> Pockemon 클래스 안에 각 포켓몬 클래스 생성 -> 각각 포켓몬 클래스는 Pockemon 상속\n",
    "\n",
    "\n",
    "if a.check_status():   # 내가 상대를 공격하면 상대의 hp가 닳아야 함\n",
    "    a.body_attack(b)\n",
    "    print(b.hp)\n",
    "else:\n",
    "    print(f'{b.name} 의 승리!')\n",
    "\n",
    "import random\n",
    "while a.check_status and b.check_status:    # 둘 다 살아있는 동안에만 게임 진행\n",
    "    attack = random.chioce([1, 2])\n",
    "    if attack"
   ]
  },
  {
   "cell_type": "code",
   "execution_count": null,
   "metadata": {},
   "outputs": [],
   "source": [
    "class Pikachu(Pokemon): # Pokemon 클래스를 상속으로 물려받음\n",
    "    type = ('elec')\n",
    "    def body_attack(self, enemy):\n",
    "        enemy.set_hp(-1 * level)\n",
    "        \n",
    "    def volt_attck(self, enemy):\n",
    "        if 'water' in enemy.type:\n",
    "            enemy.set_hp(-1.3 * self.level)\n",
    "            print('효과는 굉장했다!')\n",
    "        else:\n",
    "            enemy.set_hp(-1.05 * self.level)\n",
    "    \n",
    "    def attack(self, enemy):  # 공격이 랜덤으로 나가게 하는 코드\n",
    "        c = random.chioce([1, 2])\n",
    "        if c == 1:\n",
    "            self.body_attck(enemy)\n",
    "        else:\n",
    "            self.volt_attack(enemy)\n",
    "            \n",
    "class Squirtle(Pokemon):\n",
    "    type = ('water')\n",
    "    def body_attack(self, enemy):\n",
    "        enemy.set_hp(-0.9 * self.level)\n",
    "    \n",
    "    def water_attack(self, enemy):\n",
    "        if 'fire' in enemy.type:\n",
    "            enemy.set_hp(-1.2 * self.level)\n",
    "            print('우하하하! 나는 물을 쏘지!')\n",
    "        else:\n",
    "            enemy.set_hp(-1.03 * self.level)\n",
    "    def attack(self, enemy):  # 공격이 랜덤으로 나가게 하는 코드\n",
    "        c = random.chioce([1, 2])\n",
    "        if c == 1:\n",
    "            self.body_attck(enemy)\n",
    "        else:\n",
    "            self.water_attack(enemy)\n",
    "\n",
    "            \n",
    "            \n",
    "p = Pikachu('pp', 20)\n",
    "print(p.check_status())\n",
    "p.set_hp(-200)\n",
    "p.check_status()\n"
   ]
  },
  {
   "cell_type": "code",
   "execution_count": null,
   "metadata": {},
   "outputs": [],
   "source": [
    "\n",
    "\n",
    "\n",
    "\n",
    "def battle(p1, p2):\n",
    "    import random\n",
    "    # 선공, 후공 결정\n",
    "    prev, after = tuple(random, shuffle([p1, p2]))\n",
    "    while prev.check_status "
   ]
  },
  {
   "cell_type": "code",
   "execution_count": null,
   "metadata": {},
   "outputs": [],
   "source": []
  }
 ],
 "metadata": {
  "kernelspec": {
   "display_name": "Python 3",
   "language": "python",
   "name": "python3"
  },
  "language_info": {
   "codemirror_mode": {
    "name": "ipython",
    "version": 3
   },
   "file_extension": ".py",
   "mimetype": "text/x-python",
   "name": "python",
   "nbconvert_exporter": "python",
   "pygments_lexer": "ipython3",
   "version": "3.6.7"
  },
  "latex_envs": {
   "LaTeX_envs_menu_present": true,
   "autoclose": false,
   "autocomplete": true,
   "bibliofile": "biblio.bib",
   "cite_by": "apalike",
   "current_citInitial": 1,
   "eqLabelWithNumbers": true,
   "eqNumInitial": 1,
   "hotkeys": {
    "equation": "Ctrl-E",
    "itemize": "Ctrl-I"
   },
   "labels_anchors": false,
   "latex_user_defs": false,
   "report_style_numbering": false,
   "user_envs_cfg": false
  },
  "toc": {
   "base_numbering": 1,
   "nav_menu": {},
   "number_sections": true,
   "sideBar": true,
   "skip_h1_title": false,
   "title_cell": "Table of Contents",
   "title_sidebar": "Contents",
   "toc_cell": false,
   "toc_position": {},
   "toc_section_display": true,
   "toc_window_display": false
  }
 },
 "nbformat": 4,
 "nbformat_minor": 2
}
