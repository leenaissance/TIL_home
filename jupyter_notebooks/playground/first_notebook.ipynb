{
 "cells": [
  {
   "cell_type": "code",
   "execution_count": 2,
   "metadata": {},
   "outputs": [],
   "source": [
    "last_name = \"Lee \"\n",
    "first_name = \"Ah Rum\""
   ]
  },
  {
   "cell_type": "code",
   "execution_count": null,
   "metadata": {},
   "outputs": [],
   "source": [
    "last_name + first_name"
   ]
  },
  {
   "cell_type": "code",
   "execution_count": 3,
   "metadata": {},
   "outputs": [
    {
     "data": {
      "text/plain": [
       "'Lee Ah Rum'"
      ]
     },
     "execution_count": 3,
     "metadata": {},
     "output_type": "execute_result"
    }
   ],
   "source": [
    "full_name = last_name + first_name\n",
    "full_name"
   ]
  },
  {
   "cell_type": "code",
   "execution_count": 16,
   "metadata": {},
   "outputs": [
    {
     "name": "stdout",
     "output_type": "stream",
     "text": [
      "45\n",
      "100\n"
     ]
    }
   ],
   "source": [
    "num1 = int(input())\n",
    "num2 = int(input())"
   ]
  },
  {
   "cell_type": "code",
   "execution_count": 17,
   "metadata": {},
   "outputs": [
    {
     "data": {
      "text/plain": [
       "5"
      ]
     },
     "execution_count": 17,
     "metadata": {},
     "output_type": "execute_result"
    }
   ],
   "source": [
    "cd_num1 = []\n",
    "cd_num2 = []\n",
    "for i in range(1, num1+1, 1):\n",
    "    if num1 % i == 0:\n",
    "        cd_num1.append(i)\n",
    "for i in range(1, num2+1, 1):\n",
    "    if num2 % i == 0:\n",
    "        cd_num2.append(i)\n",
    "for gcd in cd_num1:\n",
    "    if gcd in cd_num2:\n",
    "        greatest_common_divisor = gcd\n",
    "greatest_common_divisor\n",
    "    \n",
    "# 10과 15를 소인수 분해한다? 1부터 시작해서 n까지 나머지가 0이 되게 나누는 수를 구한다\n",
    "# l_n1을 돌면서 ㅣ_n2와 일치하는 수 중 제일 큰 수를 구한다\n",
    "# 두 수를 곱하고 최대공약수로 나눈다"
   ]
  },
  {
   "cell_type": "code",
   "execution_count": 18,
   "metadata": {},
   "outputs": [
    {
     "data": {
      "text/plain": [
       "900"
      ]
     },
     "execution_count": 18,
     "metadata": {},
     "output_type": "execute_result"
    }
   ],
   "source": [
    "least_common_multiple = num1*num2 // greatest_common_divisor\n",
    "least_common_multiple"
   ]
  }
 ],
 "metadata": {
  "kernelspec": {
   "display_name": "Python 3",
   "language": "python",
   "name": "python3"
  },
  "language_info": {
   "codemirror_mode": {
    "name": "ipython",
    "version": 3
   },
   "file_extension": ".py",
   "mimetype": "text/x-python",
   "name": "python",
   "nbconvert_exporter": "python",
   "pygments_lexer": "ipython3",
   "version": "3.6.7"
  }
 },
 "nbformat": 4,
 "nbformat_minor": 2
}
