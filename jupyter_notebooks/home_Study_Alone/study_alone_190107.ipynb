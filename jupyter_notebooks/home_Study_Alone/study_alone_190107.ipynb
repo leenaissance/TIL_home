{
 "cells": [
  {
   "cell_type": "markdown",
   "metadata": {},
   "source": [
    "### 삼성 sw expert academy\n",
    "#### 1989. 초심자의 회문 검사"
   ]
  },
  {
   "cell_type": "markdown",
   "metadata": {},
   "source": [
    ">\"level\" 과 같이 거꾸로 읽어도 제대로 읽은 것과 같은 문장이나 낱말을 회문(回文, palindrome)이라 한다.\n",
    "\n",
    ">단어를 입력 받아 회문이면 1을 출력하고, 아니라면 0을 출력하는 프로그램을 작성하라."
   ]
  },
  {
   "cell_type": "code",
   "execution_count": 9,
   "metadata": {},
   "outputs": [
    {
     "name": "stdout",
     "output_type": "stream",
     "text": [
      "3\n",
      "level\n",
      "#1 1\n",
      "eye\n",
      "#2 1\n",
      "liil\n",
      "#3 1\n"
     ]
    }
   ],
   "source": [
    "t = input()\n",
    "for i in range(1, int(t)+1):\n",
    "    char_lst = []\n",
    "    reverse_list = []\n",
    "    character = input()\n",
    "    for al in character:\n",
    "        char_lst.append(al)\n",
    "    reverse_list = list(reversed(char_lst))\n",
    "    print('#', i, \" 1\", sep='') if char_lst == reverse_list else print(\"#\", i, \" 0\", sep='')\n"
   ]
  }
 ],
 "metadata": {
  "kernelspec": {
   "display_name": "Python 3",
   "language": "python",
   "name": "python3"
  }
 },
 "nbformat": 4,
 "nbformat_minor": 2
}
