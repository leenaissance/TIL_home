{
 "cells": [
  {
   "cell_type": "markdown",
   "metadata": {},
   "source": [
    "# 190103 SW expert academy \n",
    "### 2070.큰놈, 작은놈, 같은놈"
   ]
  },
  {
   "cell_type": "code",
   "execution_count": null,
   "metadata": {},
   "outputs": [],
   "source": [
    "# 내 정답\n",
    "t = int(input())\n",
    "for i in range(1, t+1):\n",
    "    numbers = input().split(' ')\n",
    "    num1, num2 = int(numbers[0]), int(numbers[1])\n",
    "    if num1 > num2:\n",
    "        print('#', i, ' >', sep='')\n",
    "    elif num1 == num2:\n",
    "        print('#', i, ' =', sep='')\n",
    "    elif num1 < num2:\n",
    "        print('#', i, ' <', sep='')"
   ]
  },
  {
   "cell_type": "code",
   "execution_count": null,
   "metadata": {},
   "outputs": [],
   "source": [
    "# 다른 제출자 정답\n",
    "for i in range(int(input())) :\n",
    "    t = list(map(int,input().split()))\n",
    "    c = '>'if t[0] > t[1] else '<'\n",
    "    if(t[0] == t[1]) : c = '='\n",
    "    print(f'#{i+1} {c}')"
   ]
  },
  {
   "cell_type": "code",
   "execution_count": null,
   "metadata": {},
   "outputs": [],
   "source": []
  },
  {
   "cell_type": "markdown",
   "metadata": {},
   "source": [
    "### 2047. 신문 헤드라인"
   ]
  },
  {
   "cell_type": "code",
   "execution_count": null,
   "metadata": {
    "scrolled": true
   },
   "outputs": [],
   "source": [
    "print(input().upper())"
   ]
  },
  {
   "cell_type": "code",
   "execution_count": null,
   "metadata": {},
   "outputs": [],
   "source": []
  },
  {
   "cell_type": "markdown",
   "metadata": {},
   "source": [
    "### 1938. 아주 간단한 계산기"
   ]
  },
  {
   "cell_type": "code",
   "execution_count": 11,
   "metadata": {
    "scrolled": true
   },
   "outputs": [
    {
     "name": "stdout",
     "output_type": "stream",
     "text": [
      "8 3\n",
      "11\n",
      "5\n",
      "24\n",
      "2\n"
     ]
    }
   ],
   "source": [
    "numbers = input().split(' ')\n",
    "num1, num2 = int(numbers[0]), int(numbers[1])\n",
    "print(num1+num2, num1-num2, num1*num2, num1//num2, sep='\\n')"
   ]
  },
  {
   "cell_type": "code",
   "execution_count": null,
   "metadata": {},
   "outputs": [],
   "source": []
  },
  {
   "cell_type": "code",
   "execution_count": null,
   "metadata": {},
   "outputs": [],
   "source": []
  }
 ],
 "metadata": {
  "kernelspec": {
   "display_name": "Python 3",
   "language": "python",
   "name": "python3"
  },
  "language_info": {
   "codemirror_mode": {
    "name": "ipython",
    "version": 3
   },
   "file_extension": ".py",
   "mimetype": "text/x-python",
   "name": "python",
   "nbconvert_exporter": "python",
   "pygments_lexer": "ipython3",
   "version": "3.7.1"
  }
 },
 "nbformat": 4,
 "nbformat_minor": 2
}
