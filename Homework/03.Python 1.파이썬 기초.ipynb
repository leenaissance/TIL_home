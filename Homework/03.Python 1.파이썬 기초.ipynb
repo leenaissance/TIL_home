{
 "cells": [
  {
   "cell_type": "markdown",
   "metadata": {},
   "source": [
    "# Homework\n",
    "## Python 1. 파이썬 기초"
   ]
  },
  {
   "cell_type": "markdown",
   "metadata": {},
   "source": [
    "### 1. Python에서 사용할 수 없는 식별자(예약어)를 찾아 작성하세요."
   ]
  },
  {
   "cell_type": "code",
   "execution_count": null,
   "metadata": {},
   "outputs": [],
   "source": [
    "\"\"\"\n",
    "False, None, True, and, as, assert, break, class, \n",
    "continue, def, del, elif, else, except, finally, for, \n",
    "from, global, if, import, in, is, lambda, nonlocal, not, or, pass, \n",
    "raise, return, try, while, with, yield\n",
    "\"\"\"\n",
    "\n",
    "import keyword\n",
    "print(keyword.kwlist)"
   ]
  },
  {
   "cell_type": "markdown",
   "metadata": {},
   "source": [
    "### 2. 파이썬에서 float는 실수를 표현하는 과정에서 같은 값으로 일치되지 않습니다. (floating point rounding error) <br> 따라서, 아래의 값을 비교하기 위해 작성해야하는 코드를 작성하세요"
   ]
  },
  {
   "cell_type": "code",
   "execution_count": null,
   "metadata": {},
   "outputs": [],
   "source": [
    "# 처리방법 1-1. 절대값을 비교\n",
    "a = 0.1 * 3\n",
    "b = 0.3\n",
    "\n",
    "abs(a - b) <= 1e-10 # 0.00000000001"
   ]
  },
  {
   "cell_type": "code",
   "execution_count": null,
   "metadata": {},
   "outputs": [],
   "source": [
    "# 처리방법 1-2. 절대값 비교를 내장된 float epsilon값과 비교\n",
    "import sys\n",
    "abs(a - b) <= sys.float_info.epsilon\n",
    "sys.float_info.epsilon"
   ]
  },
  {
   "cell_type": "code",
   "execution_count": null,
   "metadata": {},
   "outputs": [],
   "source": [
    "# 처리방법 2. math 모듈을 통해 근사한 값인지 비교\n",
    "# python 3.5부터는 math 모듈을 활용할 수 있다.\n",
    "import math\n",
    "math.isclose(a, b)"
   ]
  },
  {
   "cell_type": "markdown",
   "metadata": {},
   "source": [
    "### 3. 이스케이프 문자여려 중 1) 줄바꿈 2) 탭 3) \\ 을 작성하세요"
   ]
  },
  {
   "cell_type": "code",
   "execution_count": null,
   "metadata": {},
   "outputs": [],
   "source": [
    "# 1) 줄바꿈\n",
    "'\\n'\n",
    "# 2) 탭\n",
    "'\\t'\n",
    "# 3) \\\n",
    "'\\\\'"
   ]
  },
  {
   "cell_type": "markdown",
   "metadata": {},
   "source": [
    "### 4. \"안녕, 철수야\"를 String Interpolation을 사용하여 출력하세요."
   ]
  },
  {
   "cell_type": "code",
   "execution_count": null,
   "metadata": {},
   "outputs": [],
   "source": [
    "name = \"철수\"\n",
    "print(f'안녕, {name}야')"
   ]
  },
  {
   "cell_type": "markdown",
   "metadata": {},
   "source": [
    "### 5. 다음 중 형변환시 오류가 발생하는 것은?\n",
    "> 1) str(1) 2) int('30') 3) int(5) 4) bool('50') 5) int('3.5')\n",
    "\n",
    "> 정답: 5) int('3.5') -> 문자열이 정수형식에 맞지 않음으로 오류가 발생한다. "
   ]
  },
  {
   "cell_type": "markdown",
   "metadata": {},
   "source": []
  },
  {
   "cell_type": "markdown",
   "metadata": {},
   "source": []
  },
  {
   "cell_type": "markdown",
   "metadata": {},
   "source": []
  },
  {
   "cell_type": "code",
   "execution_count": null,
   "metadata": {},
   "outputs": [],
   "source": []
  }
 ],
 "metadata": {
  "kernelspec": {
   "display_name": "Python 3",
   "language": "python",
   "name": "python3"
  },
  "language_info": {
   "codemirror_mode": {
    "name": "ipython",
    "version": 3
   },
   "file_extension": ".py",
   "mimetype": "text/x-python",
   "name": "python",
   "nbconvert_exporter": "python",
   "pygments_lexer": "ipython3",
   "version": "3.6.7"
  }
 },
 "nbformat": 4,
 "nbformat_minor": 2
}
