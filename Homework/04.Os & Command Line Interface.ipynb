{
 "cells": [
  {
   "cell_type": "markdown",
   "metadata": {},
   "source": [
    "# HomeWork\n",
    "## Os & Command Line Interface"
   ]
  },
  {
   "cell_type": "markdown",
   "metadata": {},
   "source": [
    "### 1. True / False\n",
    "\n",
    "> 1-1. windows와 unix 계열 운영체제는 CLI(Command Line Interface)에서 같은 명령어를 사용한다. [F]\n",
    "\n",
    "> 1-2. 우리가 사용하는 컴퓨터는 windows 이므로, unix 계열 운영체제 명령어를 학습할 필요가 없다. [F]\n",
    "\n",
    "> 1-3. CLI 는 결국 컴퓨터를 조작하기 위해 사용하는 것이다. [F]\n",
    "\n",
    "> 1-4. CLI 를 통해서 바탕화면에 새로운 파이썬파일(.py)"
   ]
  },
  {
   "cell_type": "markdown",
   "metadata": {},
   "source": [
    "### 2. 다음 unix 명령어들에 대하여 간략하게 기술하세요\n",
    "> 2-1. ls\n",
    "현재 위치한 폴더 내부의 파일/폴더들의 목록 출력\n",
    "\n",
    "> 2-2. cd\n",
    "change directory, 폴더(디렉토리) 이동\n",
    "\n",
    "> 2-3. mkdir\n",
    "새로운 폴더(디렉토리)를 생성\n",
    "\n",
    "> 2-4. touch\n",
    "새로운 파일을 생성\n",
    "\n"
   ]
  },
  {
   "cell_type": "markdown",
   "metadata": {},
   "source": [
    "### 3. CLI 와 익숙해지게 되면, Tab 키를 매우 빈번하게 사용하게 됩니다. 그 이유는 무엇일까요? (git bash를 켜고 cd Desk까지만 입력 후 탭 키를 눌러 봅시다!)\n",
    "\n",
    ">Tab키를 누르면 폴더나 파일 이름을 자동완성 해주는 기능이 있어서 자주 사용하게 된다."
   ]
  }
 ],
 "metadata": {
  "kernelspec": {
   "display_name": "Python 3",
   "language": "python",
   "name": "python3"
  },
  "language_info": {
   "codemirror_mode": {
    "name": "ipython",
    "version": 3
   },
   "file_extension": ".py",
   "mimetype": "text/x-python",
   "name": "python",
   "nbconvert_exporter": "python",
   "pygments_lexer": "ipython3",
   "version": "3.6.7"
  }
 },
 "nbformat": 4,
 "nbformat_minor": 2
}
