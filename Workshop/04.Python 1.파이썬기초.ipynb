{
 "cells": [
  {
   "cell_type": "markdown",
   "metadata": {},
   "source": [
    "# Day1"
   ]
  },
  {
   "cell_type": "markdown",
   "metadata": {},
   "source": [
    "## Workshop"
   ]
  },
  {
   "cell_type": "code",
   "execution_count": 25,
   "metadata": {},
   "outputs": [
    {
     "name": "stdout",
     "output_type": "stream",
     "text": [
      "5\n",
      "9\n"
     ]
    }
   ],
   "source": [
    "# 1. 두개의  정수n,m 반복문 사용않고 별문자를 이용해 가로의 길이 n 세로의 길이 m인 직사각형 형태를 출력해보세요\n",
    "n = int(input())\n",
    "m =int(input())"
   ]
  },
  {
   "cell_type": "code",
   "execution_count": 32,
   "metadata": {},
   "outputs": [
    {
     "name": "stdout",
     "output_type": "stream",
     "text": [
      "*****\n",
      "*****\n",
      "*****\n",
      "*****\n",
      "*****\n",
      "*****\n",
      "*****\n",
      "*****\n",
      "*****\n",
      "\n"
     ]
    }
   ],
   "source": [
    "# 1. 정답\n",
    "print((('*' * n) + '\\n') * m)"
   ]
  },
  {
   "cell_type": "code",
   "execution_count": 14,
   "metadata": {},
   "outputs": [],
   "source": [
    "# 2. 다음 딕셔너리에서 평균 점수를 출력하시오.\n",
    "student = {\n",
    "    'python' : 80, \n",
    "    'algotirhm' : 99, \n",
    "    'django' : 89, \n",
    "    'flask' : 83\n",
    "}"
   ]
  },
  {
   "cell_type": "code",
   "execution_count": 15,
   "metadata": {},
   "outputs": [
    {
     "data": {
      "text/plain": [
       "87.75"
      ]
     },
     "execution_count": 15,
     "metadata": {},
     "output_type": "execute_result"
    }
   ],
   "source": [
    "# 2. 정답\n",
    "sum(student.values()) / len(student.values())"
   ]
  },
  {
   "cell_type": "code",
   "execution_count": 67,
   "metadata": {},
   "outputs": [],
   "source": [
    "# 3. 다음 혈액형 데이터에서 for문을 이용하여 각 혈액형 별 학생수의 합계를 구하시오.\n",
    "blood_types = [ 'A', 'B', 'A', 'O', 'AB', 'AB', 'O', 'A', 'B', 'O', 'B', 'AB' ]"
   ]
  },
  {
   "cell_type": "code",
   "execution_count": 68,
   "metadata": {},
   "outputs": [
    {
     "name": "stdout",
     "output_type": "stream",
     "text": [
      "A형 총계:  3 B형 총계:  3 AB형 총계:  3 O형 총계:  3\n"
     ]
    }
   ],
   "source": [
    "# 3. 정답\n",
    "# list_A = []\n",
    "# list_B = []\n",
    "# list_AB = []\n",
    "# list_O = []\n",
    "\n",
    "list_A, list_B, list_AB, list_O = [], [], [], []\n",
    "for each_type in blood_types:\n",
    "    if each_type == 'A':\n",
    "        list_A.append(each_type)\n",
    "    elif each_type == 'B':\n",
    "        list_B.append(each_type)\n",
    "    elif each_type == 'AB':\n",
    "        list_AB.append(each_type)\n",
    "    else:\n",
    "        list_O.append(each_type)\n",
    "print('A형 총계: ', len(list_A), 'B형 총계: ', len(list_B), 'AB형 총계: ', len(list_AB), 'O형 총계: ', len(list_O))\n",
    "\n"
   ]
  },
  {
   "cell_type": "code",
   "execution_count": 41,
   "metadata": {},
   "outputs": [
    {
     "name": "stdout",
     "output_type": "stream",
     "text": [
      "A형 총계:  3 B형 총계:  3 AB형 총계:  3 O형 총계:  3\n"
     ]
    }
   ],
   "source": [
    "# 3. 정답 (2)\n",
    "cnt_A, cnt_B, cnt_AB, cnt_O = 0, 0, 0, 0\n",
    "\n",
    "for i in blood_types:\n",
    "    if 'A' == i:\n",
    "        cnt_A += 1\n",
    "    elif 'B' == i:\n",
    "        cnt_B += 1\n",
    "    elif 'AB' == i:\n",
    "        cnt_AB += 1\n",
    "    else:\n",
    "        cnt_O += 1\n",
    "\n",
    "print('A형 총계: ', cnt_A, 'B형 총계: ', cnt_B, 'AB형 총계: ', cnt_AB, 'O형 총계: ', cnt_O)"
   ]
  },
  {
   "cell_type": "markdown",
   "metadata": {},
   "source": [
    "## Homework"
   ]
  },
  {
   "cell_type": "code",
   "execution_count": null,
   "metadata": {},
   "outputs": [],
   "source": [
    "# 1. Python에서 사용할 수 없는 식별자(예약어)를 찾아 작성하세요"
   ]
  },
  {
   "cell_type": "code",
   "execution_count": 44,
   "metadata": {},
   "outputs": [
    {
     "name": "stdout",
     "output_type": "stream",
     "text": [
      "['False', 'None', 'True', 'and', 'as', 'assert', 'break', 'class', 'continue', 'def', 'del', 'elif', 'else', 'except', 'finally', 'for', 'from', 'global', 'if', 'import', 'in', 'is', 'lambda', 'nonlocal', 'not', 'or', 'pass', 'raise', 'return', 'try', 'while', 'with', 'yield']\n"
     ]
    }
   ],
   "source": [
    "# 1. 정답\n",
    "\"\"\"\n",
    "False, None, True, and, as, assert, break, class, continue, def, del, elif, else, except, finally, for, from, global, if, import, in, is, lambda, nonlocal, not, or, pass, raise, return, try, while, with, yield\n",
    "\"\"\"\n",
    "\n",
    "import keyword\n",
    "print(keyword.kwlist)"
   ]
  },
  {
   "cell_type": "code",
   "execution_count": null,
   "metadata": {},
   "outputs": [],
   "source": [
    "#2. 파이썬에서 float는 실수를 표현하는 과정에서 같은 값으로 일치되지 않습니다. (floating point rounding error)\n",
    "# 따라서, 아래의 값을 비교하기 위해 작성해야하는 코드를 작성하세요.\n",
    "# a = 0.1 * 3\n",
    "# b = 0.3"
   ]
  },
  {
   "cell_type": "code",
   "execution_count": 1,
   "metadata": {},
   "outputs": [
    {
     "data": {
      "text/plain": [
       "True"
      ]
     },
     "execution_count": 1,
     "metadata": {},
     "output_type": "execute_result"
    }
   ],
   "source": [
    "# 2. 정답\n",
    "# 처리방법 1-1. 절대값을 비교\n",
    "a = 0.1 * 3\n",
    "b = 0.3\n",
    "\n",
    "abs(a - b) <= 1e-10"
   ]
  },
  {
   "cell_type": "code",
   "execution_count": null,
   "metadata": {},
   "outputs": [],
   "source": [
    "# 2. 정답\n",
    "# 처리방법 1-2. 절대값 비교를 내장된 float epsilon값과 비교\n",
    "import sys\n",
    "abs(a - b) <= sys.float_info.epsilon\n",
    "sys.float_info.epsilon"
   ]
  },
  {
   "cell_type": "code",
   "execution_count": null,
   "metadata": {},
   "outputs": [],
   "source": [
    "# 2. 정답\n",
    "# 처리방법 2. math 모듈을 통해 근사한 값인지 비교\n",
    "# python 3.5부터는 math 모듈을 활용할 수 있다.\n",
    "import math\n",
    "math.isclose(a, b)"
   ]
  },
  {
   "cell_type": "code",
   "execution_count": null,
   "metadata": {},
   "outputs": [],
   "source": [
    "# 3. 이스케이프 문자열 중 1) 줄바꿈 2) 탭 3) \\ 을 작성하세요."
   ]
  },
  {
   "cell_type": "code",
   "execution_count": 45,
   "metadata": {
    "scrolled": true
   },
   "outputs": [
    {
     "name": "stdout",
     "output_type": "stream",
     "text": [
      "줄바꿈 == \n",
      " 탭 == \t \\ == \\\n"
     ]
    }
   ],
   "source": [
    "# 3. 정답\n",
    "print('줄바꿈 ==', '\\n', '탭 ==', '\\t', '\\ ==', '\\\\')"
   ]
  },
  {
   "cell_type": "code",
   "execution_count": null,
   "metadata": {},
   "outputs": [],
   "source": [
    "# 4. \"안녕, 철수야\" 를 String Interpolation 을 사용하여 출력하세요."
   ]
  },
  {
   "cell_type": "markdown",
   "metadata": {},
   "source": [
    "String interpolation\n",
    "1) %-formatting\n",
    "\n",
    "2) str.format()\n",
    "\n",
    "3) f-strings : 파이썬 3.6 버전 이후에 지원 되는 사항입니다."
   ]
  },
  {
   "cell_type": "code",
   "execution_count": 53,
   "metadata": {},
   "outputs": [
    {
     "name": "stdout",
     "output_type": "stream",
     "text": [
      "안녕, 철수야\n"
     ]
    }
   ],
   "source": [
    "# 4. 정답\n",
    "name = \"철수\"\n",
    "print('안녕, {}야'.format(name))"
   ]
  },
  {
   "cell_type": "code",
   "execution_count": null,
   "metadata": {},
   "outputs": [],
   "source": [
    "# 5. 다음 중 형변환 시 오류가 발생하는 것은? \n",
    "# 1. str(1) 2. int('30') 3) int(5) 4) bool('50') 5) int('3.5')"
   ]
  },
  {
   "cell_type": "code",
   "execution_count": null,
   "metadata": {},
   "outputs": [],
   "source": [
    "# 5. 정답\n",
    "\"\"\"\n",
    "1. '1'\n",
    "2. 30\n",
    "3. 5\n",
    "4. True\n",
    "5. Type Error!, float 형식이기 때문에 int로 타입캐스팅 할 수 없다.\n",
    "\"\"\""
   ]
  }
 ],
 "metadata": {
  "kernelspec": {
   "display_name": "Python 3",
   "language": "python",
   "name": "python3"
  },
  "language_info": {
   "codemirror_mode": {
    "name": "ipython",
    "version": 3
   },
   "file_extension": ".py",
   "mimetype": "text/x-python",
   "name": "python",
   "nbconvert_exporter": "python",
   "pygments_lexer": "ipython3",
   "version": "3.6.7"
  }
 },
 "nbformat": 4,
 "nbformat_minor": 2
}
