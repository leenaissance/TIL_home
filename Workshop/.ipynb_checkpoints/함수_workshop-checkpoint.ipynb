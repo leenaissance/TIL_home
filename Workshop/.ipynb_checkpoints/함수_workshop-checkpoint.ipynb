{
 "cells": [
  {
   "cell_type": "markdown",
   "metadata": {},
   "source": [
    "## 05.workshop\n",
    "# 함수"
   ]
  },
  {
   "cell_type": "markdown",
   "metadata": {},
   "source": [
    "### Problem\n",
    "> Palindrome은 앞에서부터 읽었을 때와 뒤에서부터 읽었을 때 같은 단어를 뜻한다.\n",
    "따라서, 'a' 'nan' '토마토' 모두 palindrome에 해당합니다.\n",
    "\n",
    "> 따라서, 단어를 입력받아 Palindrome 을 검증하고 True나 Flase 를 리턴하는 함수 palindrome(word)를 만들어보세요.\n"
   ]
  },
  {
   "cell_type": "code",
   "execution_count": 11,
   "metadata": {},
   "outputs": [
    {
     "name": "stdout",
     "output_type": "stream",
     "text": [
      "True\n",
      "False\n",
      "True\n",
      "True\n",
      "True\n"
     ]
    }
   ],
   "source": [
    "# Try 1\n",
    "def palindrome(word):\n",
    "    word_list = []\n",
    "    for i in word:\n",
    "        word_list.append(i)\n",
    "    if word_list == list(reversed(word_list)):\n",
    "        return True\n",
    "    else:\n",
    "        return False\n",
    "            \n",
    "\n",
    "print(palindrome('nan'))\n",
    "print(palindrome('nianl'))\n",
    "print(palindrome('yaay'))\n",
    "print(palindrome('토마토'))\n",
    "print(palindrome('a'))\n",
    "    "
   ]
  },
  {
   "cell_type": "code",
   "execution_count": 24,
   "metadata": {},
   "outputs": [
    {
     "name": "stdout",
     "output_type": "stream",
     "text": [
      "True\n",
      "False\n",
      "True\n",
      "True\n",
      "True\n"
     ]
    }
   ],
   "source": [
    "# Try 2\n",
    "def palindrome2(word):\n",
    "    n = -1\n",
    "    for i in word:\n",
    "        result = True if i == word[n] else False\n",
    "        n -= 1\n",
    "    return result\n",
    "\n",
    "print(palindrome2('nan'))\n",
    "print(palindrome2('nianl'))\n",
    "print(palindrome2('yaay'))\n",
    "print(palindrome2('토마토'))\n",
    "print(palindrome2('a'))\n",
    "        \n",
    "    "
   ]
  },
  {
   "cell_type": "code",
   "execution_count": 27,
   "metadata": {},
   "outputs": [
    {
     "name": "stdout",
     "output_type": "stream",
     "text": [
      "True\n",
      "False\n"
     ]
    }
   ],
   "source": [
    "# 공백, 대소문자에 관계 없이 회문이라고 말할 수 있는 palindrome 코드 짜기\n",
    "\n",
    "def palindrome2(word):\n",
    "    n = -1\n",
    "    word = word.upper()\n",
    "    for i in word:\n",
    "        result = True if i == word[n] else False\n",
    "        n -= 1\n",
    "        if i == [' ']:\n",
    "            continue\n",
    "    return result\n",
    "\n",
    "print(palindrome2('I am Mai'))\n",
    "print(palindrome2('nLDAJianl'))"
   ]
  },
  {
   "cell_type": "code",
   "execution_count": null,
   "metadata": {},
   "outputs": [],
   "source": []
  }
 ],
 "metadata": {
  "kernelspec": {
   "display_name": "Python 3",
   "language": "python",
   "name": "python3"
  },
  "language_info": {
   "codemirror_mode": {
    "name": "ipython",
    "version": 3
   },
   "file_extension": ".py",
   "mimetype": "text/x-python",
   "name": "python",
   "nbconvert_exporter": "python",
   "pygments_lexer": "ipython3",
   "version": "3.7.1"
  }
 },
 "nbformat": 4,
 "nbformat_minor": 2
}
