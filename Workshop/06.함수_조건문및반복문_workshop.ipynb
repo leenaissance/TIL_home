{
 "cells": [
  {
   "cell_type": "markdown",
   "metadata": {},
   "source": [
    "## Daily Workshop 06.\n",
    "# 함수"
   ]
  },
  {
   "cell_type": "markdown",
   "metadata": {},
   "source": [
    "### Problem\n",
    "> 양의 정수 x를 입력 받아 제곱근의 근사값의 결과를 반환하는 함수를 작성 <br>\n",
    "> sqrt()사용 금지\n",
    "\n",
    "> 소수점 4번째 자리에서 값을 반환했을 때 부등호의 앞, 뒤가 같은 값이면 반환하는 것으로 한다."
   ]
  },
  {
   "cell_type": "code",
   "execution_count": null,
   "metadata": {},
   "outputs": [],
   "source": [
    "# 1번째 시도\n",
    "\n",
    "def my_sqrt(n, mini=(n-1), maxi=(n+1)):\n",
    "    guess = (mini + maxi) / 2\n",
    "    if round(mini ** 2 , 4) == round(maxi ** 2, 4):\n",
    "        return round(mini** 2, 4) \n",
    "    elif guess ** 2 < n:\n",
    "        mini = guess\n",
    "        return my_sqrt(mini, maxi)\n",
    "    elif guess ** 2 > n:\n",
    "        maxi = guess\n",
    "        return my_sqrt(mini, maxi)\n",
    "    \n",
    "my_sqrt(2)\n",
    "\n",
    "# 함수 인자 설정에 n이 여러번 들어가면 동작이 안됨...."
   ]
  },
  {
   "cell_type": "code",
   "execution_count": null,
   "metadata": {},
   "outputs": [],
   "source": [
    "# 2번째 시도\n",
    "\n",
    "def my_sqrt(n):\n",
    "    mini, maxi = (n - 1), (n + 1)\n",
    "    while 1:\n",
    "        guess = (mini + maxi) / 2\n",
    "        if round(mini ** 2 , 4) == round(maxi ** 2, 4):\n",
    "            return round(mini** 2, 4) \n",
    "        elif guess ** 2 < n:\n",
    "            mini = guess\n",
    "        elif guess ** 2 > n:\n",
    "            maxi = guess\n",
    "        \n",
    "my_sqrt(2)"
   ]
  },
  {
   "cell_type": "code",
   "execution_count": 1,
   "metadata": {},
   "outputs": [
    {
     "data": {
      "text/plain": [
       "2.2361"
      ]
     },
     "execution_count": 1,
     "metadata": {},
     "output_type": "execute_result"
    }
   ],
   "source": [
    "# 3번째 시도\n",
    "# minimum과 maximum 범위 설정 잘 생각해보기\n",
    "\n",
    "def my_sqrt(n):\n",
    "    mini, maxi = 1, n\n",
    "    while 1:\n",
    "        guess = (mini + maxi) / 2\n",
    "        if round(mini ** 2 , 4) == round(maxi ** 2, 4):\n",
    "            return round(guess, 4)\n",
    "        elif guess ** 2 < n:\n",
    "            mini = guess\n",
    "        elif guess ** 2 > n:\n",
    "            maxi = guess\n",
    "        \n",
    "my_sqrt(5)"
   ]
  },
  {
   "cell_type": "code",
   "execution_count": null,
   "metadata": {},
   "outputs": [],
   "source": [
    "# 선생님 풀이 1 -> n이 2일 때 \n",
    "def my_sqrt(n):\n",
    "    minimum, maximum = 1, 2\n",
    "    \n",
    "    while 1:\n",
    "        if minimum ** 2 < n < maximum ** 2:\n",
    "            guess = (minimum + maximum) / 2\n",
    "            \n",
    "            if round(minimum, 5) == round(maximum, 5):\n",
    "                return round(guess, 5)\n",
    "            elif guess ** 2 > n:\n",
    "                maximum = guess\n",
    "            else:\n",
    "                minimum = guess\n",
    "                \n",
    "my_sqrt(2)"
   ]
  },
  {
   "cell_type": "code",
   "execution_count": 2,
   "metadata": {},
   "outputs": [
    {
     "data": {
      "text/plain": [
       "2.23607"
      ]
     },
     "execution_count": 2,
     "metadata": {},
     "output_type": "execute_result"
    }
   ],
   "source": [
    "# 선생님 풀이 2 -> n의 범위에 상관없이 계산할 수 있는 코드\n",
    "def my_sqrt(n):\n",
    "    minimum, maximum = 0, 1\n",
    "    \n",
    "    while 1:\n",
    "        if n == maximum ** 2:\n",
    "            return maximum\n",
    "        elif minimum ** 2 < n < maximum ** 2:\n",
    "            guess = (minimum + maximum) / 2\n",
    "            \n",
    "            if round(minimum, 5) == round(maximum, 5):\n",
    "                return round(guess, 5)\n",
    "            elif guess ** 2 > n:\n",
    "                maximum = guess\n",
    "            else:\n",
    "                minimum = guess\n",
    "        else:\n",
    "            minimum += 1\n",
    "            maximum += 1\n",
    "my_sqrt(5)"
   ]
  },
  {
   "cell_type": "code",
   "execution_count": null,
   "metadata": {},
   "outputs": [],
   "source": [
    "# 선생님 풀이 3\n",
    "\n",
    "import math\n",
    "\n",
    "def my_sqrt_r(n, minimum=0, maximum=1):\n",
    "    if n == maximum ** 2:\n",
    "        return maximum\n",
    "    elif minimum ** 2 < n < maximum ** 2:\n",
    "        guess = (minimum + maximum) / 2\n",
    "        if math.isclose(minimum, maximum):\n",
    "            return guess\n",
    "        elif guess ** 2 > n:\n",
    "            return my_sqrt_r(n, minimum, guess)\n",
    "        else:\n",
    "            return my_sqrt_r(n, guess, minimum)\n",
    "    else:\n",
    "        maximum += 1\n",
    "        minimum += 1\n",
    "        return round(my_sqrt_r(n, minimum, maximum), 5)\n",
    "        \n",
    "my_sqrt_r(10)"
   ]
  },
  {
   "cell_type": "code",
   "execution_count": null,
   "metadata": {},
   "outputs": [],
   "source": []
  }
 ],
 "metadata": {
  "kernelspec": {
   "display_name": "Python 3",
   "language": "python",
   "name": "python3"
  },
  "language_info": {
   "codemirror_mode": {
    "name": "ipython",
    "version": 3
   },
   "file_extension": ".py",
   "mimetype": "text/x-python",
   "name": "python",
   "nbconvert_exporter": "python",
   "pygments_lexer": "ipython3",
   "version": "3.6.7"
  }
 },
 "nbformat": 4,
 "nbformat_minor": 2
}
